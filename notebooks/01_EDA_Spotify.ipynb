{
  "cells": [
    {
      "cell_type": "code",
      "execution_count": null,
      "metadata": {
        "id": "m_2ITVchOjnM",
        "collapsed": true
      },
      "outputs": [],
      "source": [
        "!pip install kagglehub --upgrade"
      ]
    },
    {
      "cell_type": "code",
      "execution_count": null,
      "metadata": {
        "id": "0UNUX3qkOOy4"
      },
      "outputs": [],
      "source": [
        "import kagglehub"
      ]
    },
    {
      "cell_type": "code",
      "execution_count": null,
      "metadata": {
        "id": "ay3N4EZBPaBx"
      },
      "outputs": [],
      "source": [
        "# download the dataset from kaggle\n",
        "\n",
        "kagglehub.dataset_download(\"undefinenull/million-song-dataset-spotify-lastfm\")"
      ]
    },
    {
      "cell_type": "code",
      "execution_count": null,
      "metadata": {
        "id": "4DXeBlmnQVFs"
      },
      "outputs": [],
      "source": [
        "import os\n",
        "from pathlib import Path\n",
        "import pandas as pd\n",
        "import numpy as np\n",
        "import matplotlib.pyplot as plt\n",
        "import seaborn as sns"
      ]
    },
    {
      "cell_type": "code",
      "execution_count": null,
      "metadata": {
        "id": "5BNW-V0rP-iz"
      },
      "outputs": [],
      "source": [
        "data_path = Path(\"/root/.cache/kagglehub/datasets/undefinenull/million-song-dataset-spotify-lastfm/versions/1\")\n",
        "\n",
        "\n",
        "songs_data_path = data_path / 'Music Info.csv'\n",
        "users_data_path = data_path / 'User Listening History.csv'"
      ]
    },
    {
      "cell_type": "markdown",
      "metadata": {
        "id": "WaVFQPX2Ktfp"
      },
      "source": [
        "# Songs Dataset"
      ]
    },
    {
      "cell_type": "code",
      "execution_count": null,
      "metadata": {
        "id": "06ZTvQP1Q_oS"
      },
      "outputs": [],
      "source": [
        "# load the songs data\n",
        "\n",
        "df_songs = pd.read_csv(songs_data_path)\n",
        "df_songs.head()"
      ]
    },
    {
      "cell_type": "markdown",
      "metadata": {
        "id": "2K-DeXLWbkIQ"
      },
      "source": [
        "## Preliminary Analysis"
      ]
    },
    {
      "cell_type": "code",
      "execution_count": null,
      "metadata": {
        "id": "m3Yo7GWgRtED"
      },
      "outputs": [],
      "source": [
        "# size of dataset\n",
        "\n",
        "df_songs.shape"
      ]
    },
    {
      "cell_type": "code",
      "execution_count": null,
      "metadata": {
        "id": "L4JLNr31LD8E"
      },
      "outputs": [],
      "source": [
        "# data info\n",
        "\n",
        "df_songs.info()"
      ]
    },
    {
      "cell_type": "code",
      "execution_count": null,
      "metadata": {
        "id": "IrJuBjTLLKlT"
      },
      "outputs": [],
      "source": [
        "# drop columns from data\n",
        "\n",
        "columns_to_drop = [\"spotify_preview_url\"]\n",
        "\n",
        "df_songs.drop(columns=columns_to_drop,inplace=True)\n",
        "\n",
        "df_songs.head()"
      ]
    },
    {
      "cell_type": "markdown",
      "metadata": {
        "id": "F1wX6Xg0Sgix"
      },
      "source": [
        "### Missing Values"
      ]
    },
    {
      "cell_type": "code",
      "execution_count": null,
      "metadata": {
        "id": "CARRYExuLYje"
      },
      "outputs": [],
      "source": [
        "# missing values\n",
        "\n",
        "df_songs.isna().sum()"
      ]
    },
    {
      "cell_type": "code",
      "execution_count": null,
      "metadata": {
        "id": "18cFJGu1LmCk"
      },
      "outputs": [],
      "source": [
        "import missingno as msno"
      ]
    },
    {
      "cell_type": "code",
      "execution_count": null,
      "metadata": {
        "id": "Jb5D4w_9LqF2"
      },
      "outputs": [],
      "source": [
        "msno.matrix(df_songs)"
      ]
    },
    {
      "cell_type": "code",
      "execution_count": null,
      "metadata": {
        "id": "8XFmq52zLscu"
      },
      "outputs": [],
      "source": [
        "# ratio of missing values in data\n",
        "\n",
        "(\n",
        "    df_songs\n",
        "    .isna()\n",
        "    .mean()\n",
        "    .sort_values(ascending=False)\n",
        "    .head(2)\n",
        "    .mul(100)\n",
        ")"
      ]
    },
    {
      "cell_type": "markdown",
      "metadata": {
        "id": "87sqk8riSbZm"
      },
      "source": [
        "### Duplicates in Data"
      ]
    },
    {
      "cell_type": "code",
      "execution_count": null,
      "metadata": {
        "id": "2_nxKAd9SecH"
      },
      "outputs": [],
      "source": [
        "# check for duplicates based on name of the song\n",
        "\n",
        "(\n",
        "    df_songs\n",
        "    .assign(name=df_songs['name'].str.lower())\n",
        "    .duplicated(subset='name')\n",
        "    .sum()\n",
        ")"
      ]
    },
    {
      "cell_type": "markdown",
      "metadata": {
        "id": "vsal8v9sTM8y"
      },
      "source": [
        "**There are 815 duplicate rows based on the name of the song**"
      ]
    },
    {
      "cell_type": "code",
      "execution_count": null,
      "metadata": {
        "id": "Ez5cAzPFTRSn"
      },
      "outputs": [],
      "source": [
        "# rows that are duplicate\n",
        "\n",
        "(\n",
        "    df_songs\n",
        "    .loc[\n",
        "        df_songs\n",
        "        .assign(name=df_songs['name'].str.lower())\n",
        "        .duplicated(subset='name',keep=False)\n",
        "    ]\n",
        "    .assign(name=df_songs['name'].str.lower())\n",
        "    .sort_values(\"name\")\n",
        ")"
      ]
    },
    {
      "cell_type": "code",
      "execution_count": null,
      "metadata": {
        "id": "8F6Mp_jWVLTo"
      },
      "outputs": [],
      "source": [
        "# duplicates in the data based on spotify_id\n",
        "\n",
        "(\n",
        "    df_songs\n",
        "    .duplicated(subset=\"spotify_id\")\n",
        "    .sum()\n",
        ")"
      ]
    },
    {
      "cell_type": "code",
      "execution_count": null,
      "metadata": {
        "id": "5mwEExqyUCpm"
      },
      "outputs": [],
      "source": [
        "# duplicate songs in the data\n",
        "\n",
        "(\n",
        "    df_songs\n",
        "    .duplicated(subset=[\"spotify_id\",\"year\",\"duration_ms\"])\n",
        "    .sum()\n",
        ")"
      ]
    },
    {
      "cell_type": "markdown",
      "metadata": {
        "id": "5B1jOfhJUtKq"
      },
      "source": [
        "**9 Duplicate songs in the data**"
      ]
    },
    {
      "cell_type": "code",
      "execution_count": null,
      "metadata": {
        "id": "EcF61xEaUyUK"
      },
      "outputs": [],
      "source": [
        "# rows that have duplicate data\n",
        "\n",
        "(\n",
        "    df_songs\n",
        "    .loc[\n",
        "        df_songs\n",
        "        .duplicated(subset=[\"spotify_id\",\"year\",\"duration_ms\"],keep=False)\n",
        "    ]\n",
        "    .sort_values([\"spotify_id\",\"year\",\"duration_ms\"])\n",
        ")"
      ]
    },
    {
      "cell_type": "code",
      "execution_count": null,
      "metadata": {
        "id": "7X6Nu7PZVS5I"
      },
      "outputs": [],
      "source": [
        "# drop duplicates\n",
        "\n",
        "df_songs.drop_duplicates(subset=[\"spotify_id\",\"year\",\"duration_ms\"],inplace=True)"
      ]
    },
    {
      "cell_type": "code",
      "execution_count": null,
      "metadata": {
        "id": "Q9K79FtXVWWq"
      },
      "outputs": [],
      "source": [
        "# check for duplicates\n",
        "\n",
        "(\n",
        "    df_songs\n",
        "    .duplicated(subset=[\"spotify_id\",\"year\",\"duration_ms\"])\n",
        "    .sum()\n",
        ")"
      ]
    },
    {
      "cell_type": "markdown",
      "metadata": {
        "id": "S7VFQreGbSGp"
      },
      "source": [
        "**Duplicate songs have been removed from the data**"
      ]
    },
    {
      "cell_type": "markdown",
      "metadata": {
        "id": "flGxpSchba5S"
      },
      "source": [
        "## Column Wise Analysis"
      ]
    },
    {
      "cell_type": "markdown",
      "metadata": {
        "id": "QVndpGHknkif"
      },
      "source": [
        "### Categorical Columns"
      ]
    },
    {
      "cell_type": "code",
      "execution_count": null,
      "metadata": {
        "id": "Ms13trAGbVhg"
      },
      "outputs": [],
      "source": [
        "# list of columns in data\n",
        "\n",
        "df_songs.columns"
      ]
    },
    {
      "cell_type": "code",
      "execution_count": null,
      "metadata": {
        "id": "Q-YwSu6Db5Du"
      },
      "outputs": [],
      "source": [
        "df_songs.dtypes"
      ]
    },
    {
      "cell_type": "code",
      "execution_count": null,
      "metadata": {
        "id": "RdweO8LZcwhf"
      },
      "outputs": [],
      "source": [
        "# shape of data\n",
        "\n",
        "df_songs.shape"
      ]
    },
    {
      "cell_type": "code",
      "execution_count": null,
      "metadata": {
        "id": "vNksDYXbbyGI"
      },
      "outputs": [],
      "source": [
        "# Categorical Columns\n",
        "\n",
        "categorical_features = df_songs.select_dtypes(include=\"object\").columns\n",
        "categorical_features"
      ]
    },
    {
      "cell_type": "code",
      "execution_count": null,
      "metadata": {
        "id": "iwnmbx1Zb2JI"
      },
      "outputs": [],
      "source": [
        "def categorical_analysis(df,feature_names,k_artists=15):\n",
        "    for feature in feature_names:\n",
        "        print(f\"Number of categories in column {feature} are \",df[feature].str.lower().nunique())\n",
        "\n",
        "        if feature in [\"artist\",\"genre\"]:\n",
        "            print(df[feature].value_counts().head(k_artists))\n",
        "\n",
        "        if feature == \"genre\":\n",
        "            print(f\"The unique categories in {feature} column are: \", df[feature].dropna().unique())\n",
        "        print(\"#\" * 75)"
      ]
    },
    {
      "cell_type": "code",
      "execution_count": null,
      "metadata": {
        "id": "Y9B22t7scSUh"
      },
      "outputs": [],
      "source": [
        "# perform catagorical analysis\n",
        "\n",
        "categorical_analysis(df_songs,categorical_features)"
      ]
    },
    {
      "cell_type": "markdown",
      "metadata": {
        "id": "0UIvuQhce_ZT"
      },
      "source": [
        "**Observations**:  \n",
        "1. The `Track ID` and `Spotify ID`'s are unique for every row.\n",
        "2. The song names have some repititions. That is because there are a few songs in the data whose name is the same but is sung by a different artist.\n",
        "3. The dataset contains songs of about `8317 artists`.\n",
        "4. There are 15 distinct categories in the `Genre` column."
      ]
    },
    {
      "cell_type": "code",
      "execution_count": null,
      "metadata": {
        "id": "VxpMH1lhZRnO"
      },
      "outputs": [],
      "source": [
        "# countplot of genre\n",
        "\n",
        "sns.countplot(df_songs,x=\"genre\")\n",
        "plt.xticks(rotation=90)\n",
        "plt.show()"
      ]
    },
    {
      "cell_type": "code",
      "execution_count": null,
      "metadata": {
        "id": "LRdM1bmXZvqN"
      },
      "outputs": [],
      "source": [
        "# genre group\n",
        "\n",
        "genre_group = df_songs.groupby(\"genre\")\n",
        "\n",
        "genre_group[['genre','tags']].sample(3)"
      ]
    },
    {
      "cell_type": "code",
      "execution_count": null,
      "metadata": {
        "id": "LRMzmrzAfzi-"
      },
      "outputs": [],
      "source": [
        "# song titles in the data that are not in english\n",
        "\n",
        "(   df_songs\n",
        "    .loc[\n",
        "        df_songs\n",
        "        .loc[:,\"name\"]\n",
        "        .str.contains(\"[^\\d\\w\\s.?!':;-_(){},\\.#-&/-]\")\n",
        "    ]\n",
        ")"
      ]
    },
    {
      "cell_type": "code",
      "execution_count": null,
      "metadata": {
        "id": "CHVwr1opcu5h"
      },
      "outputs": [],
      "source": [
        "# artists in the data that are not in english\n",
        "\n",
        "(   df_songs\n",
        "    .loc[\n",
        "        df_songs\n",
        "        .loc[:,\"artist\"]\n",
        "        .str.contains(\"[^\\d\\w\\s.?!':;-_\\(\\)\\{\\},\\.#-+&\\/\\-\\\"]\")\n",
        "    ]\n",
        ")"
      ]
    },
    {
      "cell_type": "code",
      "execution_count": null,
      "metadata": {
        "id": "CyigyjeMFk2b"
      },
      "outputs": [],
      "source": [
        "df_songs['tags'][0] #rock, alternative, indie, alternative_rock, in"
      ]
    },
    {
      "cell_type": "code",
      "execution_count": null,
      "metadata": {
        "id": "QAobInhVlQfa"
      },
      "outputs": [],
      "source": [
        "all_tags = []\n",
        "\n",
        "for tags in df_songs[\"tags\"].dropna().str.replace(\" \",\"\").str.split(\",\"):\n",
        "    all_tags.extend(tags)"
      ]
    },
    {
      "cell_type": "code",
      "execution_count": null,
      "metadata": {
        "id": "ry4NLGJAmlRx"
      },
      "outputs": [],
      "source": [
        "print(\"The number of unique tags are \",len(set(all_tags)))"
      ]
    },
    {
      "cell_type": "code",
      "execution_count": null,
      "metadata": {
        "id": "dYgEkgs6m6I8"
      },
      "outputs": [],
      "source": [
        "set(all_tags)"
      ]
    },
    {
      "cell_type": "code",
      "execution_count": null,
      "metadata": {
        "id": "f2rLfZUUiU4y"
      },
      "outputs": [],
      "source": [
        "# unique tags in the data\n",
        "\n",
        "(\n",
        "    df_songs\n",
        "    .loc[:,\"tags\"]\n",
        "    .dropna()\n",
        "    .str.split(\",\")\n",
        "    .explode()\n",
        "    .str.strip()\n",
        "    .unique()\n",
        ")"
      ]
    },
    {
      "cell_type": "markdown",
      "metadata": {
        "id": "jVBxqPyPlLZx"
      },
      "source": [
        "### Integer Based Columns"
      ]
    },
    {
      "cell_type": "markdown",
      "metadata": {
        "id": "KMPcfV9XnevE"
      },
      "source": [
        "**Key**  \n",
        "\n",
        "**What it means:** The musical key in which the song is composed, represented as integers (e.g., 0 = C, 1 = C#, 2 = D, etc., up to 11).  \n",
        "- **When value is small:** Represents keys like C or D, often associated with simplicity or familiarity.  \n",
        "- **When value is large:** Represents keys like A# or B, which may sound brighter or more complex, depending on the context.  \n",
        "\n",
        "---\n",
        "\n",
        "**Mode**  \n",
        "\n",
        "**What it means:** Refers to the modality of the song, where 0 = minor (often associated with sadness or tension) and 1 = major (associated with happiness or resolution).  \n",
        "- **When value is small:** Indicates the song is in a minor mode, creating a more somber or serious tone.  \n",
        "- **When value is large:** Indicates the song is in a major mode, giving it a cheerful and uplifting feel.  \n",
        "\n",
        "---\n",
        "\n",
        "**Time Signature**  \n",
        "\n",
        "**What it means:** The number of beats in each bar of music, typically expressed as an integer (e.g., 4 for 4/4 time).  \n",
        "- **When value is small:** Indicates fewer beats per measure (e.g., 3), which can create a waltz-like or less conventional rhythm.  \n",
        "- **When value is large:** Indicates more beats per measure (e.g., 5 or 7), often leading to a more complex or experimental rhythmic structure.\n",
        "\n",
        "\n",
        "> A value of **4** in the time signature typically means the song is in **4/4 time**, also known as \"common time.\" This means there are **4 beats per measure**, and the quarter note gets one beat.\n",
        "\n",
        ">**Impact of a 4 Time Signature:**  \n",
        "- **Musical Feel:** It creates a steady, balanced, and natural rhythm that is easy to follow.  \n",
        "- **Prevalence:** It is the most common time signature in Western music, used in many genres like pop, rock, classical, and jazz.  \n",
        "- **Examples:** Songs like \"Billie Jean\" by Michael Jackson or \"Shape of You\" by Ed Sheeran are in 4/4."
      ]
    },
    {
      "cell_type": "code",
      "execution_count": null,
      "metadata": {
        "id": "t0qIjz6ynrUp"
      },
      "outputs": [],
      "source": [
        "integer_columns = df_songs.select_dtypes(include=\"int\").columns\n",
        "integer_columns"
      ]
    },
    {
      "cell_type": "code",
      "execution_count": null,
      "metadata": {
        "id": "JBJ80WmvnvLT"
      },
      "outputs": [],
      "source": [
        "df_songs[integer_columns]"
      ]
    },
    {
      "cell_type": "code",
      "execution_count": null,
      "metadata": {
        "id": "kE7jIbbBaq6y"
      },
      "outputs": [],
      "source": [
        "# statistical summary\n",
        "\n",
        "(\n",
        "    df_songs\n",
        "    .loc[:,integer_columns]\n",
        "    .drop(columns=[\"duration_ms\"])\n",
        "    .assign(**{\n",
        "        col: df_songs[col].astype(\"object\")\n",
        "        for col in integer_columns.drop(\"duration_ms\")\n",
        "    })\n",
        "    .describe()\n",
        ")"
      ]
    },
    {
      "cell_type": "code",
      "execution_count": null,
      "metadata": {
        "id": "ujnXQsuraw3w"
      },
      "outputs": [],
      "source": [
        "# range of data\n",
        "\n",
        "(\n",
        "    df_songs\n",
        "    .loc[:,integer_columns]\n",
        "    .assign(duration_minutes=df_songs[\"duration_ms\"].div(1000).div(60))\n",
        "    .drop(columns=[\"duration_ms\"])\n",
        "    .agg([\"min\",\"max\"])\n",
        ")"
      ]
    },
    {
      "cell_type": "code",
      "execution_count": null,
      "metadata": {
        "id": "Skzh7A_obtGM"
      },
      "outputs": [],
      "source": [
        "# number of songs per year in data\n",
        "\n",
        "sns.histplot(df_songs,x=\"year\",bins=df_songs[\"year\"].max() - df_songs[\"year\"].min(),stat=\"count\")\n",
        "plt.show()"
      ]
    },
    {
      "cell_type": "code",
      "execution_count": null,
      "metadata": {
        "id": "Rowqrxv7b-PZ"
      },
      "outputs": [],
      "source": [
        "# most songs from which year(top 5)\n",
        "\n",
        "(\n",
        "    df_songs\n",
        "    .loc[:,\"year\"]\n",
        "    .value_counts()\n",
        "    .head(5)\n",
        "    .sort_index()\n",
        ")"
      ]
    },
    {
      "cell_type": "markdown",
      "metadata": {
        "id": "tpAOJKH8pdP2"
      },
      "source": [
        "-----"
      ]
    },
    {
      "cell_type": "markdown",
      "metadata": {
        "id": "gY8QswGeo9Sm"
      },
      "source": [
        "**Keys**"
      ]
    },
    {
      "cell_type": "markdown",
      "metadata": {
        "id": "KMZ0sMXgo6dk"
      },
      "source": [
        "Musical notes are assigned key values from **0 to 11**, representing all the chromatic notes in an octave. Here’s the mapping:  \n",
        "\n",
        "| **Key Value** | **Note** |  \n",
        "|---------------|-----------|  \n",
        "| 0             | C         |  \n",
        "| 1             | C# / Db   |  \n",
        "| 2             | D         |  \n",
        "| 3             | D# / Eb   |  \n",
        "| 4             | E         |  \n",
        "| 5             | F         |  \n",
        "| 6             | F# / Gb   |  \n",
        "| 7             | G         |  \n",
        "| 8             | G# / Ab   |  \n",
        "| 9             | A         |  \n",
        "| 10            | A# / Bb   |  \n",
        "| 11            | B         |  \n",
        "\n",
        "### Notes Explained:  \n",
        "- **Sharps (#):** Raise the note by a semitone (e.g., C → C#).  \n",
        "- **Flats (b):** Lower the note by a semitone (e.g., D → Db).  \n",
        "\n",
        "This cycle repeats across octaves!"
      ]
    },
    {
      "cell_type": "markdown",
      "metadata": {
        "id": "Vhw32-rwpgVv"
      },
      "source": [
        "-----"
      ]
    },
    {
      "cell_type": "markdown",
      "metadata": {
        "id": "dUKQW4LQpAGv"
      },
      "source": [
        "**English vs Hindi Notes Comparison**\n",
        "\n",
        "Here’s a table that maps **Key Value**, **English Notes**, and their corresponding **Hindi Music Notes (Swaras)**:  \n",
        "\n",
        "| **Key Value** | **English Note** | **Hindi Music Note** |  \n",
        "|---------------|------------------|-----------------------|  \n",
        "| 0             | C                | Sa                   |  \n",
        "| 1             | C# / Db          | Komal Re             |  \n",
        "| 2             | D                | Re                   |  \n",
        "| 3             | D# / Eb          | Komal Ga             |  \n",
        "| 4             | E                | Ga                   |  \n",
        "| 5             | F                | Ma                   |  \n",
        "| 6             | F# / Gb          | Tivra Ma             |  \n",
        "| 7             | G                | Pa                   |  \n",
        "| 8             | G# / Ab          | Komal Dha            |  \n",
        "| 9             | A                | Dha                  |  \n",
        "| 10            | A# / Bb          | Komal Ni             |  \n",
        "| 11            | B                | Ni                   |  \n",
        "\n",
        "**Notes**:\n",
        "- In **Hindi classical music**, \"Komal\" refers to flat (lowered) notes, and \"Tivra\" refers to sharp (raised) notes.\n",
        "- The cycle repeats with \"Sa\" at the next octave!"
      ]
    },
    {
      "cell_type": "markdown",
      "metadata": {
        "id": "CqCnUo1IpkNf"
      },
      "source": [
        "-----\n",
        "\n",
        "If a song has a key value of **2**, it means the song is composed in the **D major** or **D minor key**, depending on the **mode** (0 = minor, 1 = major).  \n",
        "\n",
        "**Interpretation**:              \n",
        "- **Key Value 2 (D):** The tonic note, or \"home base,\" of the song is **D**. All other notes and chords in the song revolve around this note.\n",
        "- **In Western Music:**  \n",
        "  - **D Major:** Bright and uplifting.  \n",
        "  - **D Minor:** Melancholic or introspective.\n",
        "- **In Hindi Classical Music:** This corresponds to the \"Re\" swara (if D is treated as the Sa of the scale).\n",
        "\n",
        "The overall mood or emotion of the song will depend on the mode and how the scale is used melodically and harmonically."
      ]
    },
    {
      "cell_type": "markdown",
      "metadata": {
        "id": "lW43B4DTpsAZ"
      },
      "source": [
        "----------------\n",
        "----------------"
      ]
    },
    {
      "cell_type": "code",
      "execution_count": null,
      "metadata": {
        "id": "tcR92cGrcRNq"
      },
      "outputs": [],
      "source": [
        "# unique values in the key column\n",
        "\n",
        "(\n",
        "    np.sort(df_songs\n",
        "            .loc[:,\"key\"]\n",
        "            .unique())\n",
        ")"
      ]
    },
    {
      "cell_type": "code",
      "execution_count": null,
      "metadata": {
        "id": "SQ7SO7gRfEmu"
      },
      "outputs": [],
      "source": [
        "# percentage of songs wrt to key in the data\n",
        "\n",
        "(\n",
        "    df_songs['key']\n",
        "    .value_counts(normalize=True)\n",
        "    .mul(100)\n",
        "    .sort_index()\n",
        "    .plot(kind='barh',title=\"Percentage of Songs wrt to Key\",xlabel=\"Percentage\")\n",
        ")"
      ]
    },
    {
      "cell_type": "code",
      "execution_count": null,
      "metadata": {
        "id": "j1T2tFvhfpTR"
      },
      "outputs": [],
      "source": [
        "# countplot for mode\n",
        "\n",
        "sns.countplot(df_songs,x=\"mode\")\n",
        "plt.show()"
      ]
    },
    {
      "cell_type": "code",
      "execution_count": null,
      "metadata": {
        "id": "TKZEuNPef96H"
      },
      "outputs": [],
      "source": [
        "# unique values for time signature\n",
        "\n",
        "(\n",
        "    np.sort(df_songs\n",
        "            .loc[:,\"time_signature\"]\n",
        "            .unique())\n",
        ")"
      ]
    },
    {
      "cell_type": "code",
      "execution_count": null,
      "metadata": {
        "id": "O7IMybPsf3Xr"
      },
      "outputs": [],
      "source": [
        "# countplot for time signature\n",
        "\n",
        "sns.countplot(df_songs,x=\"time_signature\")\n",
        "plt.show()"
      ]
    },
    {
      "cell_type": "code",
      "execution_count": null,
      "metadata": {
        "id": "zMRKH6HYgGzk"
      },
      "outputs": [],
      "source": [
        "(\n",
        "    df_songs['time_signature']\n",
        "    .value_counts(normalize=True)\n",
        "    .mul(100)\n",
        ")"
      ]
    },
    {
      "cell_type": "code",
      "execution_count": null,
      "metadata": {
        "id": "FEWWrXivrg-9"
      },
      "outputs": [],
      "source": [
        "# statistical summary of time duration\n",
        "\n",
        "(\n",
        "    df_songs\n",
        "    .loc[:,[\"duration_ms\"]]\n",
        "    .assign(duration_minutes=df_songs[\"duration_ms\"].div(1000).div(60))\n",
        "    .drop(columns=\"duration_ms\")\n",
        "    .describe()\n",
        ")"
      ]
    },
    {
      "cell_type": "code",
      "execution_count": null,
      "metadata": {
        "id": "eFpzLn3mgOaU"
      },
      "outputs": [],
      "source": [
        "# time duration histogram\n",
        "\n",
        "time_duration_mins = df_songs[\"duration_ms\"].div(1000).div(60)\n",
        "\n",
        "sns.histplot(time_duration_mins)\n",
        "plt.xlabel(\"Time Duration (mins)\")\n",
        "plt.show()"
      ]
    },
    {
      "cell_type": "code",
      "execution_count": null,
      "metadata": {
        "id": "lEndg-UCgWxl"
      },
      "outputs": [],
      "source": [
        "# time duration boxplot\n",
        "\n",
        "sns.boxplot(time_duration_mins)\n",
        "plt.ylabel(\"Time Duration (mins)\")\n",
        "plt.show()"
      ]
    },
    {
      "cell_type": "code",
      "execution_count": null,
      "metadata": {
        "id": "y1M9rtqHgk0D"
      },
      "outputs": [],
      "source": [
        "# song that is longer than 60 mins\n",
        "\n",
        "(\n",
        "    df_songs\n",
        "    .loc[time_duration_mins > 60]\n",
        ")"
      ]
    },
    {
      "cell_type": "markdown",
      "metadata": {
        "id": "_2XWieQig5Qw"
      },
      "source": [
        "### Continuous Columns"
      ]
    },
    {
      "cell_type": "code",
      "execution_count": null,
      "metadata": {
        "id": "fRtAYSNJhO_S"
      },
      "outputs": [],
      "source": [
        "continuous_columns = df_songs.select_dtypes(include=\"float\").columns\n",
        "continuous_columns"
      ]
    },
    {
      "cell_type": "markdown",
      "metadata": {
        "id": "bES10CLns-_p"
      },
      "source": [
        "**Danceability**\n",
        "  \n",
        "**What it means:** Measures how suitable a track is for dancing, based on tempo, rhythm stability, beat strength, and overall regularity.  \n",
        "- **When value is small:** The song may feel less rhythmic or harder to dance to, like ballads or experimental music.  \n",
        "- **When value is large:** The song is highly danceable, with a strong beat and rhythmic consistency, ideal for clubs or parties.  \n",
        "\n",
        "---\n",
        "\n",
        "**Energy**\n",
        "\n",
        "**What it means:** Represents the intensity and activity of a song, considering factors like loudness, tempo, and instrumentation.  \n",
        "- **When value is small:** The song feels mellow, calm, or laid-back, such as acoustic or chill tracks.  \n",
        "- **When value is large:** The song feels loud, energetic, and lively, often found in rock or EDM genres.  \n",
        "\n",
        "---\n",
        "\n",
        "**Loudness**\n",
        "\n",
        "**What it means:** The overall volume of the song in decibels (dB), averaged over the track.  \n",
        "- **When value is small:** The song is quieter, suitable for soft or ambient styles.  \n",
        "- **When value is large:** The song is louder and more powerful, typically associated with dynamic or energetic tracks.  \n",
        "\n",
        "---\n",
        "\n",
        "**Speechiness**\n",
        "\n",
        "**What it means:** Measures the presence of spoken words in a track. A higher value indicates more speech-like content.  \n",
        "- **When value is small:** The song is more musical, with fewer spoken or rap-like elements.  \n",
        "- **When value is large:** The track has spoken word, podcast-style content, or heavy rap influence.  \n",
        "\n",
        "---\n",
        "\n",
        "**Acousticness**\n",
        "\n",
        "**What it means:** Reflects how acoustic (non-electronic) the track is.  \n",
        "- **When value is small:** The track is more electronic or synthetic in nature.  \n",
        "- **When value is large:** The track is acoustic, featuring instruments like guitar, piano, or strings.  \n",
        "\n",
        "---\n",
        "\n",
        "**Instrumentalness**\n",
        "\n",
        "**What it means:** Predicts the likelihood of a song having no vocals (purely instrumental).  \n",
        "- **When value is small:** The track likely has vocals or lyrics.  \n",
        "- **When value is large:** The track is primarily instrumental, like classical or ambient music.  \n",
        "\n",
        "---\n",
        "\n",
        "**Liveness**\n",
        "\n",
        "**What it means:** Measures the presence of a live audience in the recording.  \n",
        "- **When value is small:** The track sounds studio-produced without live ambiance.  \n",
        "- **When value is large:** The track feels live, with audience sounds or a concert vibe.  \n",
        "\n",
        "---\n",
        "\n",
        "**Valence**\n",
        "\n",
        "**What it means:** Indicates the positivity or happiness of a track's mood.  \n",
        "- **When value is small:** The song feels sad, somber, or emotionally heavy.  \n",
        "- **When value is large:** The song feels cheerful, uplifting, or happy.  \n",
        "\n",
        "---\n",
        "\n",
        "**Tempo**\n",
        "  \n",
        "**What it means:** The speed of the song in beats per minute (BPM).  \n",
        "- **When value is small:** The song is slow-paced, such as ballads or downtempo tracks.  \n",
        "- **When value is large:** The song is fast-paced, like dance or upbeat genres.  "
      ]
    },
    {
      "cell_type": "code",
      "execution_count": null,
      "metadata": {
        "id": "snDuNNnchVJN"
      },
      "outputs": [],
      "source": [
        "def numerical_analysis(df,columns):\n",
        "    for column in columns:\n",
        "        print(f\"Numerical Analysis for column {column}\")\n",
        "        print(\"Statistical Summary\")\n",
        "        print(df[column].describe())\n",
        "\n",
        "        fig = plt.figure(figsize=(12,4))\n",
        "        # hitogram for column\n",
        "        plt.subplot(1,2,1)\n",
        "        sns.histplot(df[column])\n",
        "        plt.title(f\"Histogram for {column}\")\n",
        "        # boxplot for column\n",
        "        plt.subplot(1,2,2)\n",
        "        sns.boxplot(df[column])\n",
        "        plt.title(f\"Boxplot for {column}\")\n",
        "        plt.show()\n",
        "\n",
        "        print(\"#\" * 120)\n",
        "    print(\"*\" * 120)\n",
        "    print(\"Pairplot\")\n",
        "    sns.pairplot(df[columns])\n",
        "    plt.show()"
      ]
    },
    {
      "cell_type": "code",
      "execution_count": null,
      "metadata": {
        "id": "k8cVtEGRijnz"
      },
      "outputs": [],
      "source": [
        "numerical_analysis(df_songs,continuous_columns)"
      ]
    },
    {
      "cell_type": "markdown",
      "metadata": {
        "id": "xP9qAuLqilGU"
      },
      "source": [
        "# Users & Song Data"
      ]
    },
    {
      "cell_type": "code",
      "execution_count": null,
      "metadata": {
        "id": "-VoDnxk0t0xo"
      },
      "outputs": [],
      "source": [
        "# load the dataset\n",
        "\n",
        "df_users = pd.read_csv(users_data_path)\n",
        "\n",
        "df_users.head()"
      ]
    },
    {
      "cell_type": "code",
      "execution_count": null,
      "metadata": {
        "id": "KBqiC_47uC12"
      },
      "outputs": [],
      "source": [
        "# dataset info\n",
        "\n",
        "df_users.info()"
      ]
    },
    {
      "cell_type": "code",
      "execution_count": null,
      "metadata": {
        "id": "O_iLOGbjuFSr"
      },
      "outputs": [],
      "source": [
        "# check for duplicates\n",
        "\n",
        "df_users.duplicated(subset=[\"track_id\",\"user_id\"]).sum()"
      ]
    },
    {
      "cell_type": "markdown",
      "metadata": {
        "id": "KPq6vES9uUqT"
      },
      "source": [
        "**No duplicates in the data**"
      ]
    },
    {
      "cell_type": "code",
      "execution_count": null,
      "metadata": {
        "id": "tjnjEvvjuPzW"
      },
      "outputs": [],
      "source": [
        "# check for missing values\n",
        "\n",
        "df_users.isna().sum()"
      ]
    },
    {
      "cell_type": "code",
      "execution_count": null,
      "metadata": {
        "id": "Ie97r04LubU3"
      },
      "outputs": [],
      "source": [
        "# unqiue users in the data\n",
        "\n",
        "(\n",
        "    df_users\n",
        "    .loc[:,\"user_id\"]\n",
        "    .nunique()\n",
        ")"
      ]
    },
    {
      "cell_type": "code",
      "execution_count": null,
      "metadata": {
        "id": "I-9YqebeukRm"
      },
      "outputs": [],
      "source": [
        "# unique songs in the data\n",
        "\n",
        "(\n",
        "    df_users\n",
        "    .loc[:,\"track_id\"]\n",
        "    .nunique()\n",
        ")"
      ]
    },
    {
      "cell_type": "code",
      "execution_count": null,
      "metadata": {
        "id": "ONJN7UUsusHp"
      },
      "outputs": [],
      "source": [
        "# top 10 most played songs in user data\n",
        "\n",
        "(\n",
        "    df_users\n",
        "    .loc[:,\"track_id\"]\n",
        "    .value_counts()\n",
        "    .head(10)\n",
        ")\n"
      ]
    },
    {
      "cell_type": "code",
      "execution_count": null,
      "metadata": {
        "id": "P05kN90JvAxf"
      },
      "outputs": [],
      "source": [
        "top_10_songs = (\n",
        "    df_users\n",
        "    .loc[:,\"track_id\"]\n",
        "    .value_counts()\n",
        "    .head(10)\n",
        ")\n",
        "\n",
        "top_10_songs"
      ]
    },
    {
      "cell_type": "code",
      "execution_count": null,
      "metadata": {
        "id": "gdy7CYcRvQIm"
      },
      "outputs": [],
      "source": [
        "(\n",
        "    df_songs\n",
        "    .loc[df_songs[\"track_id\"].isin(top_10_songs.index.tolist()),:]\n",
        ")"
      ]
    },
    {
      "cell_type": "code",
      "execution_count": null,
      "metadata": {
        "id": "af-GhNT7yVUS"
      },
      "outputs": [],
      "source": [
        "# most playcounts for songs\n",
        "\n",
        "top_10_played_songs = (\n",
        "    df_users.groupby(\"track_id\")['playcount']\n",
        "    .agg(\"sum\")\n",
        "    .sort_values(ascending=False)\n",
        "    .head(10)\n",
        ")\n",
        "\n",
        "top_10_played_songs\n"
      ]
    },
    {
      "cell_type": "code",
      "execution_count": null,
      "metadata": {
        "id": "0ti_dv-Ryh6T"
      },
      "outputs": [],
      "source": [
        "(\n",
        "    df_songs\n",
        "    .loc[df_songs[\"track_id\"].isin(top_10_played_songs.index.tolist()),:]\n",
        ")"
      ]
    },
    {
      "cell_type": "code",
      "execution_count": null,
      "metadata": {
        "id": "ogPtsIzxzRMy"
      },
      "outputs": [],
      "source": [
        "pd.concat([top_10_songs,top_10_played_songs],axis=1)"
      ]
    },
    {
      "cell_type": "code",
      "execution_count": null,
      "metadata": {
        "id": "ySVh3FXsvW2i"
      },
      "outputs": [],
      "source": [
        "# most diverse users\n",
        "# top 10\n",
        "\n",
        "\n",
        "most_diverse_users = (\n",
        "                        df_users.groupby(\"user_id\")['track_id']\n",
        "                        .agg(\"count\")\n",
        "                        .sort_values(ascending=False)\n",
        "                        .head(10)\n",
        "                    )\n",
        "\n",
        "most_diverse_users"
      ]
    },
    {
      "cell_type": "code",
      "execution_count": null,
      "metadata": {
        "id": "mlYqKxjUvr8V"
      },
      "outputs": [],
      "source": [
        "# most playcounts for users\n",
        "# top 10\n",
        "\n",
        "most_active_users = (\n",
        "                        df_users.groupby(\"user_id\")['playcount']\n",
        "                        .agg(\"sum\")\n",
        "                        .sort_values(ascending=False)\n",
        "                        .head(10)\n",
        "                    )\n",
        "\n",
        "most_active_users"
      ]
    },
    {
      "cell_type": "code",
      "execution_count": null,
      "metadata": {
        "id": "A4c4foVjwLOn"
      },
      "outputs": [],
      "source": [
        "pd.concat([most_diverse_users,most_active_users],axis=1)"
      ]
    }
  ],
  "metadata": {
    "colab": {
      "provenance": []
    },
    "kernelspec": {
      "display_name": "Python 3",
      "name": "python3"
    },
    "language_info": {
      "name": "python"
    }
  },
  "nbformat": 4,
  "nbformat_minor": 0
}