{
  "cells": [
    {
      "cell_type": "code",
      "execution_count": 20,
      "metadata": {
        "colab": {
          "base_uri": "https://localhost:8080/"
        },
        "id": "m_2ITVchOjnM",
        "outputId": "62ce65a7-8dcf-495f-959c-2905fdce5902"
      },
      "outputs": [
        {
          "name": "stdout",
          "output_type": "stream",
          "text": [
            "Requirement already satisfied: kagglehub in c:\\users\\work\\documents\\spotify-hybrid-recommender-system\\myenv\\lib\\site-packages (0.3.7)\n",
            "Requirement already satisfied: model-signing in c:\\users\\work\\documents\\spotify-hybrid-recommender-system\\myenv\\lib\\site-packages (from kagglehub) (0.2.0)\n",
            "Requirement already satisfied: packaging in c:\\users\\work\\documents\\spotify-hybrid-recommender-system\\myenv\\lib\\site-packages (from kagglehub) (24.2)\n",
            "Requirement already satisfied: requests in c:\\users\\work\\documents\\spotify-hybrid-recommender-system\\myenv\\lib\\site-packages (from kagglehub) (2.32.3)\n",
            "Requirement already satisfied: tqdm in c:\\users\\work\\documents\\spotify-hybrid-recommender-system\\myenv\\lib\\site-packages (from kagglehub) (4.67.1)\n",
            "Requirement already satisfied: cryptography in c:\\users\\work\\documents\\spotify-hybrid-recommender-system\\myenv\\lib\\site-packages (from model-signing->kagglehub) (44.0.0)\n",
            "Requirement already satisfied: in-toto-attestation in c:\\users\\work\\documents\\spotify-hybrid-recommender-system\\myenv\\lib\\site-packages (from model-signing->kagglehub) (0.9.3)\n",
            "Requirement already satisfied: sigstore in c:\\users\\work\\documents\\spotify-hybrid-recommender-system\\myenv\\lib\\site-packages (from model-signing->kagglehub) (3.6.1)\n",
            "Requirement already satisfied: typing-extensions in c:\\users\\work\\documents\\spotify-hybrid-recommender-system\\myenv\\lib\\site-packages (from model-signing->kagglehub) (4.12.2)\n",
            "Requirement already satisfied: charset-normalizer<4,>=2 in c:\\users\\work\\documents\\spotify-hybrid-recommender-system\\myenv\\lib\\site-packages (from requests->kagglehub) (3.4.1)\n",
            "Requirement already satisfied: idna<4,>=2.5 in c:\\users\\work\\documents\\spotify-hybrid-recommender-system\\myenv\\lib\\site-packages (from requests->kagglehub) (3.10)\n",
            "Requirement already satisfied: urllib3<3,>=1.21.1 in c:\\users\\work\\documents\\spotify-hybrid-recommender-system\\myenv\\lib\\site-packages (from requests->kagglehub) (2.3.0)\n",
            "Requirement already satisfied: certifi>=2017.4.17 in c:\\users\\work\\documents\\spotify-hybrid-recommender-system\\myenv\\lib\\site-packages (from requests->kagglehub) (2025.1.31)\n",
            "Requirement already satisfied: colorama in c:\\users\\work\\documents\\spotify-hybrid-recommender-system\\myenv\\lib\\site-packages (from tqdm->kagglehub) (0.4.6)\n",
            "Requirement already satisfied: cffi>=1.12 in c:\\users\\work\\documents\\spotify-hybrid-recommender-system\\myenv\\lib\\site-packages (from cryptography->model-signing->kagglehub) (1.17.1)\n",
            "Requirement already satisfied: protobuf in c:\\users\\work\\documents\\spotify-hybrid-recommender-system\\myenv\\lib\\site-packages (from in-toto-attestation->model-signing->kagglehub) (5.29.3)\n",
            "Requirement already satisfied: id>=1.1.0 in c:\\users\\work\\documents\\spotify-hybrid-recommender-system\\myenv\\lib\\site-packages (from sigstore->model-signing->kagglehub) (1.5.0)\n",
            "Requirement already satisfied: pyasn1~=0.6 in c:\\users\\work\\documents\\spotify-hybrid-recommender-system\\myenv\\lib\\site-packages (from sigstore->model-signing->kagglehub) (0.6.1)\n",
            "Requirement already satisfied: pydantic<3,>=2 in c:\\users\\work\\documents\\spotify-hybrid-recommender-system\\myenv\\lib\\site-packages (from sigstore->model-signing->kagglehub) (2.10.6)\n",
            "Requirement already satisfied: pyjwt>=2.1 in c:\\users\\work\\documents\\spotify-hybrid-recommender-system\\myenv\\lib\\site-packages (from sigstore->model-signing->kagglehub) (2.10.1)\n",
            "Requirement already satisfied: pyOpenSSL>=23.0.0 in c:\\users\\work\\documents\\spotify-hybrid-recommender-system\\myenv\\lib\\site-packages (from sigstore->model-signing->kagglehub) (25.0.0)\n",
            "Requirement already satisfied: rich~=13.0 in c:\\users\\work\\documents\\spotify-hybrid-recommender-system\\myenv\\lib\\site-packages (from sigstore->model-signing->kagglehub) (13.9.4)\n",
            "Requirement already satisfied: rfc8785~=0.1.2 in c:\\users\\work\\documents\\spotify-hybrid-recommender-system\\myenv\\lib\\site-packages (from sigstore->model-signing->kagglehub) (0.1.4)\n",
            "Requirement already satisfied: rfc3161-client~=0.1.2 in c:\\users\\work\\documents\\spotify-hybrid-recommender-system\\myenv\\lib\\site-packages (from sigstore->model-signing->kagglehub) (0.1.2)\n",
            "Requirement already satisfied: sigstore-protobuf-specs==0.3.2 in c:\\users\\work\\documents\\spotify-hybrid-recommender-system\\myenv\\lib\\site-packages (from sigstore->model-signing->kagglehub) (0.3.2)\n",
            "Requirement already satisfied: sigstore-rekor-types==0.0.18 in c:\\users\\work\\documents\\spotify-hybrid-recommender-system\\myenv\\lib\\site-packages (from sigstore->model-signing->kagglehub) (0.0.18)\n",
            "Requirement already satisfied: tuf~=5.0 in c:\\users\\work\\documents\\spotify-hybrid-recommender-system\\myenv\\lib\\site-packages (from sigstore->model-signing->kagglehub) (5.1.0)\n",
            "Requirement already satisfied: platformdirs~=4.2 in c:\\users\\work\\documents\\spotify-hybrid-recommender-system\\myenv\\lib\\site-packages (from sigstore->model-signing->kagglehub) (4.3.6)\n",
            "Requirement already satisfied: betterproto==2.0.0b6 in c:\\users\\work\\documents\\spotify-hybrid-recommender-system\\myenv\\lib\\site-packages (from sigstore-protobuf-specs==0.3.2->sigstore->model-signing->kagglehub) (2.0.0b6)\n",
            "Requirement already satisfied: grpclib<0.5.0,>=0.4.1 in c:\\users\\work\\documents\\spotify-hybrid-recommender-system\\myenv\\lib\\site-packages (from betterproto==2.0.0b6->sigstore-protobuf-specs==0.3.2->sigstore->model-signing->kagglehub) (0.4.7)\n",
            "Requirement already satisfied: python-dateutil<3.0,>=2.8 in c:\\users\\work\\documents\\spotify-hybrid-recommender-system\\myenv\\lib\\site-packages (from betterproto==2.0.0b6->sigstore-protobuf-specs==0.3.2->sigstore->model-signing->kagglehub) (2.9.0.post0)\n",
            "Requirement already satisfied: pycparser in c:\\users\\work\\documents\\spotify-hybrid-recommender-system\\myenv\\lib\\site-packages (from cffi>=1.12->cryptography->model-signing->kagglehub) (2.22)\n",
            "Requirement already satisfied: annotated-types>=0.6.0 in c:\\users\\work\\documents\\spotify-hybrid-recommender-system\\myenv\\lib\\site-packages (from pydantic<3,>=2->sigstore->model-signing->kagglehub) (0.7.0)\n",
            "Requirement already satisfied: pydantic-core==2.27.2 in c:\\users\\work\\documents\\spotify-hybrid-recommender-system\\myenv\\lib\\site-packages (from pydantic<3,>=2->sigstore->model-signing->kagglehub) (2.27.2)\n",
            "Requirement already satisfied: markdown-it-py>=2.2.0 in c:\\users\\work\\documents\\spotify-hybrid-recommender-system\\myenv\\lib\\site-packages (from rich~=13.0->sigstore->model-signing->kagglehub) (3.0.0)\n",
            "Requirement already satisfied: pygments<3.0.0,>=2.13.0 in c:\\users\\work\\documents\\spotify-hybrid-recommender-system\\myenv\\lib\\site-packages (from rich~=13.0->sigstore->model-signing->kagglehub) (2.19.1)\n",
            "Requirement already satisfied: securesystemslib~=1.0 in c:\\users\\work\\documents\\spotify-hybrid-recommender-system\\myenv\\lib\\site-packages (from tuf~=5.0->sigstore->model-signing->kagglehub) (1.2.0)\n",
            "Requirement already satisfied: mdurl~=0.1 in c:\\users\\work\\documents\\spotify-hybrid-recommender-system\\myenv\\lib\\site-packages (from markdown-it-py>=2.2.0->rich~=13.0->sigstore->model-signing->kagglehub) (0.1.2)\n",
            "Requirement already satisfied: email-validator>=2.0.0 in c:\\users\\work\\documents\\spotify-hybrid-recommender-system\\myenv\\lib\\site-packages (from pydantic[email]<3,>=2->sigstore-rekor-types==0.0.18->sigstore->model-signing->kagglehub) (2.2.0)\n",
            "Requirement already satisfied: dnspython>=2.0.0 in c:\\users\\work\\documents\\spotify-hybrid-recommender-system\\myenv\\lib\\site-packages (from email-validator>=2.0.0->pydantic[email]<3,>=2->sigstore-rekor-types==0.0.18->sigstore->model-signing->kagglehub) (2.7.0)\n",
            "Requirement already satisfied: h2<5,>=3.1.0 in c:\\users\\work\\documents\\spotify-hybrid-recommender-system\\myenv\\lib\\site-packages (from grpclib<0.5.0,>=0.4.1->betterproto==2.0.0b6->sigstore-protobuf-specs==0.3.2->sigstore->model-signing->kagglehub) (4.2.0)\n",
            "Requirement already satisfied: multidict in c:\\users\\work\\documents\\spotify-hybrid-recommender-system\\myenv\\lib\\site-packages (from grpclib<0.5.0,>=0.4.1->betterproto==2.0.0b6->sigstore-protobuf-specs==0.3.2->sigstore->model-signing->kagglehub) (6.1.0)\n",
            "Requirement already satisfied: six>=1.5 in c:\\users\\work\\documents\\spotify-hybrid-recommender-system\\myenv\\lib\\site-packages (from python-dateutil<3.0,>=2.8->betterproto==2.0.0b6->sigstore-protobuf-specs==0.3.2->sigstore->model-signing->kagglehub) (1.17.0)\n",
            "Requirement already satisfied: hyperframe<7,>=6.1 in c:\\users\\work\\documents\\spotify-hybrid-recommender-system\\myenv\\lib\\site-packages (from h2<5,>=3.1.0->grpclib<0.5.0,>=0.4.1->betterproto==2.0.0b6->sigstore-protobuf-specs==0.3.2->sigstore->model-signing->kagglehub) (6.1.0)\n",
            "Requirement already satisfied: hpack<5,>=4.1 in c:\\users\\work\\documents\\spotify-hybrid-recommender-system\\myenv\\lib\\site-packages (from h2<5,>=3.1.0->grpclib<0.5.0,>=0.4.1->betterproto==2.0.0b6->sigstore-protobuf-specs==0.3.2->sigstore->model-signing->kagglehub) (4.1.0)\n"
          ]
        }
      ],
      "source": [
        "! pip install kagglehub --upgrade"
      ]
    },
    {
      "cell_type": "code",
      "execution_count": 21,
      "metadata": {
        "id": "0UNUX3qkOOy4"
      },
      "outputs": [],
      "source": [
        "import kagglehub"
      ]
    },
    {
      "cell_type": "code",
      "execution_count": 22,
      "metadata": {
        "colab": {
          "base_uri": "https://localhost:8080/",
          "height": 87
        },
        "id": "ay3N4EZBPaBx",
        "outputId": "9d9baed2-5b6a-433a-afb8-1fdf92cffb12"
      },
      "outputs": [
        {
          "data": {
            "text/plain": [
              "'C:\\\\Users\\\\work\\\\.cache\\\\kagglehub\\\\datasets\\\\undefinenull\\\\million-song-dataset-spotify-lastfm\\\\versions\\\\1'"
            ]
          },
          "execution_count": 22,
          "metadata": {},
          "output_type": "execute_result"
        }
      ],
      "source": [
        "# download the dataset from kaggle\n",
        "\n",
        "kagglehub.dataset_download(\"undefinenull/million-song-dataset-spotify-lastfm\")"
      ]
    },
    {
      "cell_type": "code",
      "execution_count": 23,
      "metadata": {
        "id": "4DXeBlmnQVFs"
      },
      "outputs": [],
      "source": [
        "import os\n",
        "from pathlib import Path\n",
        "import pandas as pd\n",
        "import numpy as np\n",
        "import matplotlib.pyplot as plt\n",
        "import seaborn as sns"
      ]
    },
    {
      "cell_type": "code",
      "execution_count": 24,
      "metadata": {
        "id": "5BNW-V0rP-iz"
      },
      "outputs": [],
      "source": [
        "data_path = Path('C:\\\\Users\\\\work\\\\.cache\\\\kagglehub\\\\datasets\\\\undefinenull\\\\million-song-dataset-spotify-lastfm\\\\versions\\\\1')\n",
        "\n",
        "\n",
        "songs_data_path = data_path / 'Music Info.csv'\n",
        "users_data_path = data_path / 'User Listening History.csv'"
      ]
    },
    {
      "cell_type": "code",
      "execution_count": 25,
      "metadata": {
        "colab": {
          "base_uri": "https://localhost:8080/",
          "height": 206
        },
        "id": "NNytoUpm9O0f",
        "outputId": "71f71f87-dceb-445e-9d50-3d56cfc22304"
      },
      "outputs": [
        {
          "data": {
            "text/html": [
              "<div>\n",
              "<style scoped>\n",
              "    .dataframe tbody tr th:only-of-type {\n",
              "        vertical-align: middle;\n",
              "    }\n",
              "\n",
              "    .dataframe tbody tr th {\n",
              "        vertical-align: top;\n",
              "    }\n",
              "\n",
              "    .dataframe thead th {\n",
              "        text-align: right;\n",
              "    }\n",
              "</style>\n",
              "<table border=\"1\" class=\"dataframe\">\n",
              "  <thead>\n",
              "    <tr style=\"text-align: right;\">\n",
              "      <th></th>\n",
              "      <th>track_id</th>\n",
              "      <th>name</th>\n",
              "      <th>artist</th>\n",
              "      <th>spotify_preview_url</th>\n",
              "    </tr>\n",
              "  </thead>\n",
              "  <tbody>\n",
              "    <tr>\n",
              "      <th>0</th>\n",
              "      <td>TRIOREW128F424EAF0</td>\n",
              "      <td>Mr. Brightside</td>\n",
              "      <td>The Killers</td>\n",
              "      <td>https://p.scdn.co/mp3-preview/4d26180e6961fd46...</td>\n",
              "    </tr>\n",
              "    <tr>\n",
              "      <th>1</th>\n",
              "      <td>TRRIVDJ128F429B0E8</td>\n",
              "      <td>Wonderwall</td>\n",
              "      <td>Oasis</td>\n",
              "      <td>https://p.scdn.co/mp3-preview/d012e536916c927b...</td>\n",
              "    </tr>\n",
              "    <tr>\n",
              "      <th>2</th>\n",
              "      <td>TROUVHL128F426C441</td>\n",
              "      <td>Come as You Are</td>\n",
              "      <td>Nirvana</td>\n",
              "      <td>https://p.scdn.co/mp3-preview/a1c11bb1cb231031...</td>\n",
              "    </tr>\n",
              "    <tr>\n",
              "      <th>3</th>\n",
              "      <td>TRUEIND128F93038C4</td>\n",
              "      <td>Take Me Out</td>\n",
              "      <td>Franz Ferdinand</td>\n",
              "      <td>https://p.scdn.co/mp3-preview/399c401370438be4...</td>\n",
              "    </tr>\n",
              "    <tr>\n",
              "      <th>4</th>\n",
              "      <td>TRLNZBD128F935E4D8</td>\n",
              "      <td>Creep</td>\n",
              "      <td>Radiohead</td>\n",
              "      <td>https://p.scdn.co/mp3-preview/e7eb60e9466bc3a2...</td>\n",
              "    </tr>\n",
              "  </tbody>\n",
              "</table>\n",
              "</div>"
            ],
            "text/plain": [
              "             track_id             name           artist  \\\n",
              "0  TRIOREW128F424EAF0   Mr. Brightside      The Killers   \n",
              "1  TRRIVDJ128F429B0E8       Wonderwall            Oasis   \n",
              "2  TROUVHL128F426C441  Come as You Are          Nirvana   \n",
              "3  TRUEIND128F93038C4      Take Me Out  Franz Ferdinand   \n",
              "4  TRLNZBD128F935E4D8            Creep        Radiohead   \n",
              "\n",
              "                                 spotify_preview_url  \n",
              "0  https://p.scdn.co/mp3-preview/4d26180e6961fd46...  \n",
              "1  https://p.scdn.co/mp3-preview/d012e536916c927b...  \n",
              "2  https://p.scdn.co/mp3-preview/a1c11bb1cb231031...  \n",
              "3  https://p.scdn.co/mp3-preview/399c401370438be4...  \n",
              "4  https://p.scdn.co/mp3-preview/e7eb60e9466bc3a2...  "
            ]
          },
          "execution_count": 25,
          "metadata": {},
          "output_type": "execute_result"
        }
      ],
      "source": [
        "# songs_data\n",
        "\n",
        "songs_df = pd.read_csv(songs_data_path, usecols=[\"track_id\",\"name\",\"artist\",\"spotify_preview_url\"])\n",
        "\n",
        "songs_df.head()"
      ]
    },
    {
      "cell_type": "code",
      "execution_count": 26,
      "metadata": {
        "colab": {
          "base_uri": "https://localhost:8080/"
        },
        "id": "sVT2ZTxb9rK_",
        "outputId": "42a437c7-c714-44df-b123-1cf032bdbcc9"
      },
      "outputs": [
        {
          "name": "stdout",
          "output_type": "stream",
          "text": [
            "Requirement already satisfied: dask[dataframe] in c:\\users\\work\\documents\\spotify-hybrid-recommender-system\\myenv\\lib\\site-packages (2025.1.0)\n",
            "Requirement already satisfied: click>=8.1 in c:\\users\\work\\documents\\spotify-hybrid-recommender-system\\myenv\\lib\\site-packages (from dask[dataframe]) (8.1.8)\n",
            "Requirement already satisfied: cloudpickle>=3.0.0 in c:\\users\\work\\documents\\spotify-hybrid-recommender-system\\myenv\\lib\\site-packages (from dask[dataframe]) (3.1.1)\n",
            "Requirement already satisfied: fsspec>=2021.09.0 in c:\\users\\work\\documents\\spotify-hybrid-recommender-system\\myenv\\lib\\site-packages (from dask[dataframe]) (2025.2.0)\n",
            "Requirement already satisfied: packaging>=20.0 in c:\\users\\work\\documents\\spotify-hybrid-recommender-system\\myenv\\lib\\site-packages (from dask[dataframe]) (24.2)\n",
            "Requirement already satisfied: partd>=1.4.0 in c:\\users\\work\\documents\\spotify-hybrid-recommender-system\\myenv\\lib\\site-packages (from dask[dataframe]) (1.4.2)\n",
            "Requirement already satisfied: pyyaml>=5.3.1 in c:\\users\\work\\documents\\spotify-hybrid-recommender-system\\myenv\\lib\\site-packages (from dask[dataframe]) (6.0.2)\n",
            "Requirement already satisfied: toolz>=0.10.0 in c:\\users\\work\\documents\\spotify-hybrid-recommender-system\\myenv\\lib\\site-packages (from dask[dataframe]) (1.0.0)\n",
            "Requirement already satisfied: importlib_metadata>=4.13.0 in c:\\users\\work\\documents\\spotify-hybrid-recommender-system\\myenv\\lib\\site-packages (from dask[dataframe]) (8.6.1)\n",
            "Requirement already satisfied: pandas>=2.0 in c:\\users\\work\\documents\\spotify-hybrid-recommender-system\\myenv\\lib\\site-packages (from dask[dataframe]) (2.2.3)\n",
            "Requirement already satisfied: pyarrow>=14.0.1 in c:\\users\\work\\documents\\spotify-hybrid-recommender-system\\myenv\\lib\\site-packages (from dask[dataframe]) (19.0.0)\n",
            "Requirement already satisfied: colorama in c:\\users\\work\\documents\\spotify-hybrid-recommender-system\\myenv\\lib\\site-packages (from click>=8.1->dask[dataframe]) (0.4.6)\n",
            "Requirement already satisfied: zipp>=3.20 in c:\\users\\work\\documents\\spotify-hybrid-recommender-system\\myenv\\lib\\site-packages (from importlib_metadata>=4.13.0->dask[dataframe]) (3.21.0)\n",
            "Requirement already satisfied: numpy>=1.23.2 in c:\\users\\work\\documents\\spotify-hybrid-recommender-system\\myenv\\lib\\site-packages (from pandas>=2.0->dask[dataframe]) (2.2.2)\n",
            "Requirement already satisfied: python-dateutil>=2.8.2 in c:\\users\\work\\documents\\spotify-hybrid-recommender-system\\myenv\\lib\\site-packages (from pandas>=2.0->dask[dataframe]) (2.9.0.post0)\n",
            "Requirement already satisfied: pytz>=2020.1 in c:\\users\\work\\documents\\spotify-hybrid-recommender-system\\myenv\\lib\\site-packages (from pandas>=2.0->dask[dataframe]) (2025.1)\n",
            "Requirement already satisfied: tzdata>=2022.7 in c:\\users\\work\\documents\\spotify-hybrid-recommender-system\\myenv\\lib\\site-packages (from pandas>=2.0->dask[dataframe]) (2025.1)\n",
            "Requirement already satisfied: locket in c:\\users\\work\\documents\\spotify-hybrid-recommender-system\\myenv\\lib\\site-packages (from partd>=1.4.0->dask[dataframe]) (1.0.0)\n",
            "Requirement already satisfied: six>=1.5 in c:\\users\\work\\documents\\spotify-hybrid-recommender-system\\myenv\\lib\\site-packages (from python-dateutil>=2.8.2->pandas>=2.0->dask[dataframe]) (1.17.0)\n"
          ]
        }
      ],
      "source": [
        "! pip install dask[dataframe]"
      ]
    },
    {
      "cell_type": "code",
      "execution_count": 27,
      "metadata": {
        "colab": {
          "base_uri": "https://localhost:8080/",
          "height": 206
        },
        "id": "FgeP7sXshB7R",
        "outputId": "67a72cb5-cd52-434d-e381-8251d3f90191"
      },
      "outputs": [
        {
          "data": {
            "text/html": [
              "<div>\n",
              "<style scoped>\n",
              "    .dataframe tbody tr th:only-of-type {\n",
              "        vertical-align: middle;\n",
              "    }\n",
              "\n",
              "    .dataframe tbody tr th {\n",
              "        vertical-align: top;\n",
              "    }\n",
              "\n",
              "    .dataframe thead th {\n",
              "        text-align: right;\n",
              "    }\n",
              "</style>\n",
              "<table border=\"1\" class=\"dataframe\">\n",
              "  <thead>\n",
              "    <tr style=\"text-align: right;\">\n",
              "      <th></th>\n",
              "      <th>track_id</th>\n",
              "      <th>user_id</th>\n",
              "      <th>playcount</th>\n",
              "    </tr>\n",
              "  </thead>\n",
              "  <tbody>\n",
              "    <tr>\n",
              "      <th>0</th>\n",
              "      <td>TRIRLYL128F42539D1</td>\n",
              "      <td>b80344d063b5ccb3212f76538f3d9e43d87dca9e</td>\n",
              "      <td>1</td>\n",
              "    </tr>\n",
              "    <tr>\n",
              "      <th>1</th>\n",
              "      <td>TRFUPBA128F934F7E1</td>\n",
              "      <td>b80344d063b5ccb3212f76538f3d9e43d87dca9e</td>\n",
              "      <td>1</td>\n",
              "    </tr>\n",
              "    <tr>\n",
              "      <th>2</th>\n",
              "      <td>TRLQPQJ128F42AA94F</td>\n",
              "      <td>b80344d063b5ccb3212f76538f3d9e43d87dca9e</td>\n",
              "      <td>1</td>\n",
              "    </tr>\n",
              "    <tr>\n",
              "      <th>3</th>\n",
              "      <td>TRTUCUY128F92E1D24</td>\n",
              "      <td>b80344d063b5ccb3212f76538f3d9e43d87dca9e</td>\n",
              "      <td>1</td>\n",
              "    </tr>\n",
              "    <tr>\n",
              "      <th>4</th>\n",
              "      <td>TRHDDQG12903CB53EE</td>\n",
              "      <td>b80344d063b5ccb3212f76538f3d9e43d87dca9e</td>\n",
              "      <td>1</td>\n",
              "    </tr>\n",
              "  </tbody>\n",
              "</table>\n",
              "</div>"
            ],
            "text/plain": [
              "             track_id                                   user_id  playcount\n",
              "0  TRIRLYL128F42539D1  b80344d063b5ccb3212f76538f3d9e43d87dca9e          1\n",
              "1  TRFUPBA128F934F7E1  b80344d063b5ccb3212f76538f3d9e43d87dca9e          1\n",
              "2  TRLQPQJ128F42AA94F  b80344d063b5ccb3212f76538f3d9e43d87dca9e          1\n",
              "3  TRTUCUY128F92E1D24  b80344d063b5ccb3212f76538f3d9e43d87dca9e          1\n",
              "4  TRHDDQG12903CB53EE  b80344d063b5ccb3212f76538f3d9e43d87dca9e          1"
            ]
          },
          "execution_count": 27,
          "metadata": {},
          "output_type": "execute_result"
        }
      ],
      "source": [
        "import dask.dataframe as dd\n",
        "\n",
        "# Load the dataset\n",
        "df = dd.read_csv(users_data_path)\n",
        "\n",
        "# Check the first few rows to verify the data\n",
        "df.head()"
      ]
    },
    {
      "cell_type": "code",
      "execution_count": 28,
      "metadata": {
        "colab": {
          "base_uri": "https://localhost:8080/"
        },
        "id": "6JRA5p7Y9vsW",
        "outputId": "c66998e5-0bcc-472c-cc7f-464230d8a2ad"
      },
      "outputs": [
        {
          "data": {
            "text/plain": [
              "9"
            ]
          },
          "execution_count": 28,
          "metadata": {},
          "output_type": "execute_result"
        }
      ],
      "source": [
        "df.npartitions"
      ]
    },
    {
      "cell_type": "code",
      "execution_count": 29,
      "metadata": {
        "colab": {
          "base_uri": "https://localhost:8080/",
          "height": 236
        },
        "id": "IRefeoCBeJad",
        "outputId": "2266dbaa-636e-4493-a169-b4ddf64a69aa"
      },
      "outputs": [
        {
          "data": {
            "application/vnd.jupyter.widget-view+json": {
              "model_id": "f7557640ba004742aa8efc0d762e250a",
              "version_major": 2,
              "version_minor": 0
            },
            "text/plain": [
              "CytoscapeWidget(cytoscape_layout={'name': 'dagre', 'rankDir': 'BT', 'nodeSep': 10, 'edgeSep': 10, 'spacingFact…"
            ]
          },
          "execution_count": 29,
          "metadata": {},
          "output_type": "execute_result"
        }
      ],
      "source": [
        "df.visualize(tasks=True)"
      ]
    },
    {
      "cell_type": "code",
      "execution_count": 30,
      "metadata": {
        "colab": {
          "base_uri": "https://localhost:8080/"
        },
        "id": "xlLWsW_mKRFC",
        "outputId": "c9377164-8886-4b98-8c9f-60db3130af61"
      },
      "outputs": [
        {
          "data": {
            "text/plain": [
              "np.int64(30459)"
            ]
          },
          "execution_count": 30,
          "metadata": {},
          "output_type": "execute_result"
        }
      ],
      "source": [
        "# number of unique tracks in the data\n",
        "\n",
        "unique_tracks = df.loc[:,\"track_id\"].nunique()\n",
        "\n",
        "unique_tracks = unique_tracks.compute()\n",
        "\n",
        "unique_tracks"
      ]
    },
    {
      "cell_type": "code",
      "execution_count": 31,
      "metadata": {
        "colab": {
          "base_uri": "https://localhost:8080/",
          "height": 368
        },
        "id": "ZdwBWWDce0CK",
        "outputId": "8603a390-09c3-493c-a9a3-788cbe4f48b6"
      },
      "outputs": [],
      "source": [
        "# unique_tracks.visualize()"
      ]
    },
    {
      "cell_type": "code",
      "execution_count": 32,
      "metadata": {
        "colab": {
          "base_uri": "https://localhost:8080/"
        },
        "id": "Q5a8EHa-Kco1",
        "outputId": "31b5c2a9-af6c-4245-8bc9-0c0ea3273109"
      },
      "outputs": [
        {
          "data": {
            "text/plain": [
              "np.int64(962037)"
            ]
          },
          "execution_count": 32,
          "metadata": {},
          "output_type": "execute_result"
        }
      ],
      "source": [
        "# number of unique users in the data\n",
        "\n",
        "unique_users = df.loc[:,\"user_id\"].nunique()\n",
        "\n",
        "unique_users = unique_users.compute()\n",
        "\n",
        "unique_users"
      ]
    },
    {
      "cell_type": "code",
      "execution_count": 33,
      "metadata": {
        "id": "q0O4iI7__SJe"
      },
      "outputs": [],
      "source": [
        "# list of unique track_ids\n",
        "\n",
        "unique_track_ids = df.loc[:,\"track_id\"].unique().compute()\n",
        "\n",
        "unique_track_ids = unique_track_ids.tolist()"
      ]
    },
    {
      "cell_type": "code",
      "execution_count": 34,
      "metadata": {
        "colab": {
          "base_uri": "https://localhost:8080/"
        },
        "id": "5yvXhdc_IGn6",
        "outputId": "cd976974-40fb-40f2-e173-cb34bf902a61"
      },
      "outputs": [
        {
          "data": {
            "text/plain": [
              "30459"
            ]
          },
          "execution_count": 34,
          "metadata": {},
          "output_type": "execute_result"
        }
      ],
      "source": [
        "len(unique_track_ids)"
      ]
    },
    {
      "cell_type": "code",
      "execution_count": 35,
      "metadata": {
        "id": "pFyRxkWH_7bL"
      },
      "outputs": [],
      "source": [
        "# filtered songs\n",
        "\n",
        "filtered_songs = songs_df[songs_df[\"track_id\"].isin(unique_track_ids)]\n",
        "\n",
        "filtered_songs.reset_index(drop=True, inplace=True)"
      ]
    },
    {
      "cell_type": "code",
      "execution_count": 36,
      "metadata": {
        "colab": {
          "base_uri": "https://localhost:8080/",
          "height": 424
        },
        "id": "1aiDr41yAGIX",
        "outputId": "be9b91fc-5064-4a73-9652-f1514f78d9b8"
      },
      "outputs": [
        {
          "data": {
            "text/html": [
              "<div>\n",
              "<style scoped>\n",
              "    .dataframe tbody tr th:only-of-type {\n",
              "        vertical-align: middle;\n",
              "    }\n",
              "\n",
              "    .dataframe tbody tr th {\n",
              "        vertical-align: top;\n",
              "    }\n",
              "\n",
              "    .dataframe thead th {\n",
              "        text-align: right;\n",
              "    }\n",
              "</style>\n",
              "<table border=\"1\" class=\"dataframe\">\n",
              "  <thead>\n",
              "    <tr style=\"text-align: right;\">\n",
              "      <th></th>\n",
              "      <th>track_id</th>\n",
              "      <th>name</th>\n",
              "      <th>artist</th>\n",
              "      <th>spotify_preview_url</th>\n",
              "    </tr>\n",
              "  </thead>\n",
              "  <tbody>\n",
              "    <tr>\n",
              "      <th>0</th>\n",
              "      <td>TRIOREW128F424EAF0</td>\n",
              "      <td>Mr. Brightside</td>\n",
              "      <td>The Killers</td>\n",
              "      <td>https://p.scdn.co/mp3-preview/4d26180e6961fd46...</td>\n",
              "    </tr>\n",
              "    <tr>\n",
              "      <th>1</th>\n",
              "      <td>TRRIVDJ128F429B0E8</td>\n",
              "      <td>Wonderwall</td>\n",
              "      <td>Oasis</td>\n",
              "      <td>https://p.scdn.co/mp3-preview/d012e536916c927b...</td>\n",
              "    </tr>\n",
              "    <tr>\n",
              "      <th>2</th>\n",
              "      <td>TRUEIND128F93038C4</td>\n",
              "      <td>Take Me Out</td>\n",
              "      <td>Franz Ferdinand</td>\n",
              "      <td>https://p.scdn.co/mp3-preview/399c401370438be4...</td>\n",
              "    </tr>\n",
              "    <tr>\n",
              "      <th>3</th>\n",
              "      <td>TRXOGZT128F424AD74</td>\n",
              "      <td>Karma Police</td>\n",
              "      <td>Radiohead</td>\n",
              "      <td>https://p.scdn.co/mp3-preview/5a09f5390e2862af...</td>\n",
              "    </tr>\n",
              "    <tr>\n",
              "      <th>4</th>\n",
              "      <td>TRUJIIV12903CA8848</td>\n",
              "      <td>Clocks</td>\n",
              "      <td>Coldplay</td>\n",
              "      <td>https://p.scdn.co/mp3-preview/24c7fe858b234e3c...</td>\n",
              "    </tr>\n",
              "    <tr>\n",
              "      <th>...</th>\n",
              "      <td>...</td>\n",
              "      <td>...</td>\n",
              "      <td>...</td>\n",
              "      <td>...</td>\n",
              "    </tr>\n",
              "    <tr>\n",
              "      <th>30454</th>\n",
              "      <td>TRXWSIN128F9339A11</td>\n",
              "      <td>Infinite Love Song</td>\n",
              "      <td>Maximilian Hecker</td>\n",
              "      <td>https://p.scdn.co/mp3-preview/8b3d529025fe3c60...</td>\n",
              "    </tr>\n",
              "    <tr>\n",
              "      <th>30455</th>\n",
              "      <td>TRPIGDW12903CDEB2D</td>\n",
              "      <td>Slip of the Lip</td>\n",
              "      <td>Fact</td>\n",
              "      <td>https://p.scdn.co/mp3-preview/cf64490291f9a600...</td>\n",
              "    </tr>\n",
              "    <tr>\n",
              "      <th>30456</th>\n",
              "      <td>TRQYCFV128F9322F50</td>\n",
              "      <td>Ryusei Rocket</td>\n",
              "      <td>アンティック-珈琲店-</td>\n",
              "      <td>https://p.scdn.co/mp3-preview/d2668a5a3e0b1fda...</td>\n",
              "    </tr>\n",
              "    <tr>\n",
              "      <th>30457</th>\n",
              "      <td>TRHQCSH128F42724B7</td>\n",
              "      <td>Colors Of The Wind</td>\n",
              "      <td>ACIDMAN</td>\n",
              "      <td>https://p.scdn.co/mp3-preview/8e22a7052ef3ecf7...</td>\n",
              "    </tr>\n",
              "    <tr>\n",
              "      <th>30458</th>\n",
              "      <td>TRGLMEM128F9322F63</td>\n",
              "      <td>Koi no Dependence</td>\n",
              "      <td>アンティック-珈琲店-</td>\n",
              "      <td>https://p.scdn.co/mp3-preview/5a61e031df174666...</td>\n",
              "    </tr>\n",
              "  </tbody>\n",
              "</table>\n",
              "<p>30459 rows × 4 columns</p>\n",
              "</div>"
            ],
            "text/plain": [
              "                 track_id                name             artist  \\\n",
              "0      TRIOREW128F424EAF0      Mr. Brightside        The Killers   \n",
              "1      TRRIVDJ128F429B0E8          Wonderwall              Oasis   \n",
              "2      TRUEIND128F93038C4         Take Me Out    Franz Ferdinand   \n",
              "3      TRXOGZT128F424AD74        Karma Police          Radiohead   \n",
              "4      TRUJIIV12903CA8848              Clocks           Coldplay   \n",
              "...                   ...                 ...                ...   \n",
              "30454  TRXWSIN128F9339A11  Infinite Love Song  Maximilian Hecker   \n",
              "30455  TRPIGDW12903CDEB2D     Slip of the Lip               Fact   \n",
              "30456  TRQYCFV128F9322F50       Ryusei Rocket        アンティック-珈琲店-   \n",
              "30457  TRHQCSH128F42724B7  Colors Of The Wind            ACIDMAN   \n",
              "30458  TRGLMEM128F9322F63   Koi no Dependence        アンティック-珈琲店-   \n",
              "\n",
              "                                     spotify_preview_url  \n",
              "0      https://p.scdn.co/mp3-preview/4d26180e6961fd46...  \n",
              "1      https://p.scdn.co/mp3-preview/d012e536916c927b...  \n",
              "2      https://p.scdn.co/mp3-preview/399c401370438be4...  \n",
              "3      https://p.scdn.co/mp3-preview/5a09f5390e2862af...  \n",
              "4      https://p.scdn.co/mp3-preview/24c7fe858b234e3c...  \n",
              "...                                                  ...  \n",
              "30454  https://p.scdn.co/mp3-preview/8b3d529025fe3c60...  \n",
              "30455  https://p.scdn.co/mp3-preview/cf64490291f9a600...  \n",
              "30456  https://p.scdn.co/mp3-preview/d2668a5a3e0b1fda...  \n",
              "30457  https://p.scdn.co/mp3-preview/8e22a7052ef3ecf7...  \n",
              "30458  https://p.scdn.co/mp3-preview/5a61e031df174666...  \n",
              "\n",
              "[30459 rows x 4 columns]"
            ]
          },
          "execution_count": 36,
          "metadata": {},
          "output_type": "execute_result"
        }
      ],
      "source": [
        "filtered_songs"
      ]
    },
    {
      "cell_type": "code",
      "execution_count": 37,
      "metadata": {
        "colab": {
          "base_uri": "https://localhost:8080/",
          "height": 81
        },
        "id": "Iznf8tyHKDnE",
        "outputId": "1df9c9a3-3096-4f45-b571-40fbdc780d94"
      },
      "outputs": [
        {
          "data": {
            "text/html": [
              "<div>\n",
              "<style scoped>\n",
              "    .dataframe tbody tr th:only-of-type {\n",
              "        vertical-align: middle;\n",
              "    }\n",
              "\n",
              "    .dataframe tbody tr th {\n",
              "        vertical-align: top;\n",
              "    }\n",
              "\n",
              "    .dataframe thead th {\n",
              "        text-align: right;\n",
              "    }\n",
              "</style>\n",
              "<table border=\"1\" class=\"dataframe\">\n",
              "  <thead>\n",
              "    <tr style=\"text-align: right;\">\n",
              "      <th></th>\n",
              "      <th>track_id</th>\n",
              "      <th>name</th>\n",
              "      <th>artist</th>\n",
              "      <th>spotify_preview_url</th>\n",
              "    </tr>\n",
              "  </thead>\n",
              "  <tbody>\n",
              "    <tr>\n",
              "      <th>3337</th>\n",
              "      <td>TROINZB128F932F740</td>\n",
              "      <td>Crazy in Love</td>\n",
              "      <td>Beyoncé</td>\n",
              "      <td>https://p.scdn.co/mp3-preview/807828ea7070bda7...</td>\n",
              "    </tr>\n",
              "  </tbody>\n",
              "</table>\n",
              "</div>"
            ],
            "text/plain": [
              "                track_id           name   artist  \\\n",
              "3337  TROINZB128F932F740  Crazy in Love  Beyoncé   \n",
              "\n",
              "                                    spotify_preview_url  \n",
              "3337  https://p.scdn.co/mp3-preview/807828ea7070bda7...  "
            ]
          },
          "execution_count": 37,
          "metadata": {},
          "output_type": "execute_result"
        }
      ],
      "source": [
        "filtered_songs[filtered_songs[\"name\"] == \"Crazy in Love\"]"
      ]
    },
    {
      "cell_type": "code",
      "execution_count": 38,
      "metadata": {
        "id": "hcTd1eFsUOe-"
      },
      "outputs": [],
      "source": [
        "import dask.dataframe as dd\n",
        "import numpy as np\n",
        "from scipy.sparse import csr_matrix\n",
        "\n",
        "# Step 1: Load data with Dask\n",
        "# Assume the dataset is in a CSV file\n",
        "\n",
        "df = dd.read_csv(users_data_path)\n",
        "\n",
        "# Step 2: Ensure playcount is numeric\n",
        "df['playcount'] = df['playcount'].astype(np.float64)\n",
        "df = df.categorize(columns=['user_id', 'track_id'])\n",
        "\n",
        "# Step 3: Convert user_id and track_id to numeric indices\n",
        "# This is necessary for creating a sparse matrix later\n",
        "user_mapping = df['user_id'].cat.codes\n",
        "track_mapping = df['track_id'].cat.codes\n",
        "\n",
        "df = df.assign(\n",
        "    user_idx=user_mapping,\n",
        "    track_idx=track_mapping\n",
        ")"
      ]
    },
    {
      "cell_type": "code",
      "execution_count": 39,
      "metadata": {
        "colab": {
          "base_uri": "https://localhost:8080/",
          "height": 840
        },
        "id": "Ef3bZb4MlhBH",
        "outputId": "657b686b-e0ea-4cfb-f642-56281f09bdd8"
      },
      "outputs": [
        {
          "data": {
            "application/vnd.jupyter.widget-view+json": {
              "model_id": "3a69157bba0b48d7959d5b76093cdd38",
              "version_major": 2,
              "version_minor": 0
            },
            "text/plain": [
              "CytoscapeWidget(cytoscape_layout={'name': 'dagre', 'rankDir': 'BT', 'nodeSep': 10, 'edgeSep': 10, 'spacingFact…"
            ]
          },
          "execution_count": 39,
          "metadata": {},
          "output_type": "execute_result"
        }
      ],
      "source": [
        "df.visualize(tasks=True)"
      ]
    },
    {
      "cell_type": "code",
      "execution_count": 40,
      "metadata": {
        "colab": {
          "base_uri": "https://localhost:8080/",
          "height": 1000
        },
        "id": "qhGqXLZOnkiM",
        "outputId": "bf5bc746-0ca4-4d42-8f20-fdf728c81e96"
      },
      "outputs": [
        {
          "data": {
            "application/vnd.jupyter.widget-view+json": {
              "model_id": "ada8eaeb88334771bee651478a687fef",
              "version_major": 2,
              "version_minor": 0
            },
            "text/plain": [
              "CytoscapeWidget(cytoscape_layout={'name': 'dagre', 'rankDir': 'BT', 'nodeSep': 10, 'edgeSep': 10, 'spacingFact…"
            ]
          },
          "execution_count": 40,
          "metadata": {},
          "output_type": "execute_result"
        }
      ],
      "source": [
        "# Step 4: Compute the interaction matrix\n",
        "# Dask doesn't support pivot tables directly, so we aggregate manually\n",
        "interaction_array = df.groupby(['track_idx', 'user_idx'])['playcount'].sum().reset_index()\n",
        "\n",
        "interaction_array.visualize(tasks=True)"
      ]
    },
    {
      "cell_type": "code",
      "execution_count": 41,
      "metadata": {
        "colab": {
          "base_uri": "https://localhost:8080/",
          "height": 178
        },
        "id": "lniUwmrmnLdD",
        "outputId": "1ed890fc-96aa-492a-bca0-96c75987af27"
      },
      "outputs": [
        {
          "data": {
            "text/html": [
              "<div><strong>Dask DataFrame Structure:</strong></div>\n",
              "<table border=\"1\" class=\"dataframe\">\n",
              "  <thead>\n",
              "    <tr style=\"text-align: right;\">\n",
              "      <th></th>\n",
              "      <th>track_idx</th>\n",
              "      <th>user_idx</th>\n",
              "      <th>playcount</th>\n",
              "    </tr>\n",
              "    <tr>\n",
              "      <th>npartitions=1</th>\n",
              "      <th></th>\n",
              "      <th></th>\n",
              "      <th></th>\n",
              "    </tr>\n",
              "  </thead>\n",
              "  <tbody>\n",
              "    <tr>\n",
              "      <th></th>\n",
              "      <td>int16</td>\n",
              "      <td>int32</td>\n",
              "      <td>float64</td>\n",
              "    </tr>\n",
              "    <tr>\n",
              "      <th></th>\n",
              "      <td>...</td>\n",
              "      <td>...</td>\n",
              "      <td>...</td>\n",
              "    </tr>\n",
              "  </tbody>\n",
              "</table>\n",
              "<div>Dask Name: reset_index, 14 expressions</div>"
            ],
            "text/plain": [
              "Dask DataFrame Structure:\n",
              "              track_idx user_idx playcount\n",
              "npartitions=1                             \n",
              "                  int16    int32   float64\n",
              "                    ...      ...       ...\n",
              "Dask Name: reset_index, 14 expressions\n",
              "Expr=ResetIndex(frame=Sum(frame=(Assign(frame=Categorize(frame=Assign(frame=ArrowStringConversion(frame=FromMapProjectable(9abe490))), categories={'user_id': 271012    00000b722001882066dff9d2da8a775658053ea0\n",
              "282179    00001638d6189236866af9bbf309ae6c2347ffdc\n",
              "413851    0000175652312d12576d9e6b84f600caa24c4715\n",
              "752325    00001cf0dce3fb22b0df0f3a1d9cd21e38385372\n",
              "202926    0000267bde1b3a70ea75cf2b2d216cb828e3202b\n",
              "                            ...                   \n",
              "819195    ffffdc6c89988cd6119067769162948eacf8b670\n",
              "844593    ffffe07df4bb5fd929efe42c5728f3a0c1621277\n",
              "743202    fffff3e690fcda840b716ce7249d8935ff3323fc\n",
              "571737    fffff67d54a40927c93d03bd6c816b034b59f087\n",
              "884370    fffff9534445f481b6ab91c345500083d2ce4df1\n",
              "Name: user_id, Length: 962037, dtype: string, 'track_id': 25631      TRAAAED128E0783FAB\n",
              "1017033    TRAAAHD128F42635A5\n",
              "704344     TRAAAQO12903CD8E1C\n",
              "928        TRAABJS128F9325C99\n",
              "472011     TRAABXA128F9326351\n",
              "                  ...        \n",
              "37141      TRZZYMU128E0792400\n",
              "432929     TRZZZCL128F428BB80\n",
              "64424      TRZZZCN128F9317A03\n",
              "104803     TRZZZHL128F9329CFB\n",
              "3627       TRZZZRJ128F42819AF\n",
              "Name: track_id, Length: 30459, dtype: string})))[['playcount', 'user_idx', 'track_idx']], observed=False, chunk_kwargs={'numeric_only': False}, aggregate_kwargs={'numeric_only': False}, _slice='playcount'))"
            ]
          },
          "execution_count": 41,
          "metadata": {},
          "output_type": "execute_result"
        }
      ],
      "source": [
        "interaction_array"
      ]
    },
    {
      "cell_type": "code",
      "execution_count": 42,
      "metadata": {
        "id": "61fnXVZ7Cx_N"
      },
      "outputs": [],
      "source": [
        "interaction_array = interaction_array.compute()"
      ]
    },
    {
      "cell_type": "code",
      "execution_count": 43,
      "metadata": {
        "colab": {
          "base_uri": "https://localhost:8080/",
          "height": 424
        },
        "id": "I7GjtH5EG7Dt",
        "outputId": "cdbe72e8-4a7b-40e8-d0f9-26bdb005f9e4"
      },
      "outputs": [
        {
          "data": {
            "text/html": [
              "<div>\n",
              "<style scoped>\n",
              "    .dataframe tbody tr th:only-of-type {\n",
              "        vertical-align: middle;\n",
              "    }\n",
              "\n",
              "    .dataframe tbody tr th {\n",
              "        vertical-align: top;\n",
              "    }\n",
              "\n",
              "    .dataframe thead th {\n",
              "        text-align: right;\n",
              "    }\n",
              "</style>\n",
              "<table border=\"1\" class=\"dataframe\">\n",
              "  <thead>\n",
              "    <tr style=\"text-align: right;\">\n",
              "      <th></th>\n",
              "      <th>track_idx</th>\n",
              "      <th>user_idx</th>\n",
              "      <th>playcount</th>\n",
              "    </tr>\n",
              "  </thead>\n",
              "  <tbody>\n",
              "    <tr>\n",
              "      <th>0</th>\n",
              "      <td>0</td>\n",
              "      <td>15780</td>\n",
              "      <td>3.0</td>\n",
              "    </tr>\n",
              "    <tr>\n",
              "      <th>1</th>\n",
              "      <td>0</td>\n",
              "      <td>76968</td>\n",
              "      <td>1.0</td>\n",
              "    </tr>\n",
              "    <tr>\n",
              "      <th>2</th>\n",
              "      <td>0</td>\n",
              "      <td>134525</td>\n",
              "      <td>2.0</td>\n",
              "    </tr>\n",
              "    <tr>\n",
              "      <th>3</th>\n",
              "      <td>0</td>\n",
              "      <td>231541</td>\n",
              "      <td>1.0</td>\n",
              "    </tr>\n",
              "    <tr>\n",
              "      <th>4</th>\n",
              "      <td>0</td>\n",
              "      <td>305348</td>\n",
              "      <td>1.0</td>\n",
              "    </tr>\n",
              "    <tr>\n",
              "      <th>...</th>\n",
              "      <td>...</td>\n",
              "      <td>...</td>\n",
              "      <td>...</td>\n",
              "    </tr>\n",
              "    <tr>\n",
              "      <th>9711296</th>\n",
              "      <td>30458</td>\n",
              "      <td>902360</td>\n",
              "      <td>1.0</td>\n",
              "    </tr>\n",
              "    <tr>\n",
              "      <th>9711297</th>\n",
              "      <td>30458</td>\n",
              "      <td>913310</td>\n",
              "      <td>1.0</td>\n",
              "    </tr>\n",
              "    <tr>\n",
              "      <th>9711298</th>\n",
              "      <td>30458</td>\n",
              "      <td>922319</td>\n",
              "      <td>1.0</td>\n",
              "    </tr>\n",
              "    <tr>\n",
              "      <th>9711299</th>\n",
              "      <td>30458</td>\n",
              "      <td>925779</td>\n",
              "      <td>1.0</td>\n",
              "    </tr>\n",
              "    <tr>\n",
              "      <th>9711300</th>\n",
              "      <td>30458</td>\n",
              "      <td>943722</td>\n",
              "      <td>1.0</td>\n",
              "    </tr>\n",
              "  </tbody>\n",
              "</table>\n",
              "<p>9711301 rows × 3 columns</p>\n",
              "</div>"
            ],
            "text/plain": [
              "         track_idx  user_idx  playcount\n",
              "0                0     15780        3.0\n",
              "1                0     76968        1.0\n",
              "2                0    134525        2.0\n",
              "3                0    231541        1.0\n",
              "4                0    305348        1.0\n",
              "...            ...       ...        ...\n",
              "9711296      30458    902360        1.0\n",
              "9711297      30458    913310        1.0\n",
              "9711298      30458    922319        1.0\n",
              "9711299      30458    925779        1.0\n",
              "9711300      30458    943722        1.0\n",
              "\n",
              "[9711301 rows x 3 columns]"
            ]
          },
          "execution_count": 43,
          "metadata": {},
          "output_type": "execute_result"
        }
      ],
      "source": [
        "interaction_array"
      ]
    },
    {
      "cell_type": "code",
      "execution_count": 44,
      "metadata": {
        "id": "TMNaD1JBoWdf"
      },
      "outputs": [],
      "source": [
        "# Step 5: Create a sparse matrix\n",
        "# Collect the data into a NumPy-friendly format\n",
        "\n",
        "row_indices = interaction_array['track_idx']\n",
        "col_indices = interaction_array['user_idx']\n",
        "values = interaction_array['playcount']\n"
      ]
    },
    {
      "cell_type": "code",
      "execution_count": 45,
      "metadata": {
        "colab": {
          "base_uri": "https://localhost:8080/"
        },
        "id": "rppajxNKoqk7",
        "outputId": "8e362e58-af06-46a3-d347-e0102ca935c3"
      },
      "outputs": [
        {
          "name": "stdout",
          "output_type": "stream",
          "text": [
            "Sparse matrix shape: (30459, 962037)\n",
            "Non-zero elements: 9711301\n"
          ]
        }
      ],
      "source": [
        "# Build a sparse matrix\n",
        "n_tracks = unique_tracks\n",
        "n_users = unique_users\n",
        "\n",
        "sparse_matrix = csr_matrix((values, (row_indices, col_indices)), shape=(n_tracks, n_users))\n",
        "\n",
        "print(\"Sparse matrix shape:\", sparse_matrix.shape)\n",
        "print(\"Non-zero elements:\", sparse_matrix.nnz)"
      ]
    },
    {
      "cell_type": "code",
      "execution_count": 46,
      "metadata": {
        "colab": {
          "base_uri": "https://localhost:8080/"
        },
        "id": "wogyKIw6oIf5",
        "outputId": "83841369-61a3-4356-d6c0-e507c0753f3c"
      },
      "outputs": [
        {
          "data": {
            "text/plain": [
              "<Compressed Sparse Row sparse matrix of dtype 'float64'\n",
              "\twith 9711301 stored elements and shape (30459, 962037)>"
            ]
          },
          "execution_count": 46,
          "metadata": {},
          "output_type": "execute_result"
        }
      ],
      "source": [
        "sparse_matrix"
      ]
    },
    {
      "cell_type": "code",
      "execution_count": 47,
      "metadata": {
        "colab": {
          "base_uri": "https://localhost:8080/"
        },
        "id": "B3nvPKOHoaC-",
        "outputId": "2e130cb7-bf9c-4a02-b20c-950827e38a15"
      },
      "outputs": [
        {
          "data": {
            "text/plain": [
              "0.033141335019756815"
            ]
          },
          "execution_count": 47,
          "metadata": {},
          "output_type": "execute_result"
        }
      ],
      "source": [
        "(sparse_matrix.nnz / (sparse_matrix.shape[0] * sparse_matrix.shape[1]))*100"
      ]
    },
    {
      "cell_type": "code",
      "execution_count": 48,
      "metadata": {
        "colab": {
          "base_uri": "https://localhost:8080/"
        },
        "id": "-wtNBdP8oyQh",
        "outputId": "0bb72bea-1b0e-4862-aeb0-eedb8b01f4e8"
      },
      "outputs": [
        {
          "data": {
            "text/plain": [
              "<Compressed Sparse Row sparse matrix of dtype 'float64'\n",
              "\twith 161 stored elements and shape (1, 962037)>"
            ]
          },
          "execution_count": 48,
          "metadata": {},
          "output_type": "execute_result"
        }
      ],
      "source": [
        "sparse_matrix[0]"
      ]
    },
    {
      "cell_type": "code",
      "execution_count": 49,
      "metadata": {
        "id": "k6tY1sG3pLYk"
      },
      "outputs": [],
      "source": [
        "from sklearn.metrics.pairwise import cosine_similarity"
      ]
    },
    {
      "cell_type": "code",
      "execution_count": 50,
      "metadata": {
        "colab": {
          "base_uri": "https://localhost:8080/"
        },
        "id": "IiYMFXcIJ5Da",
        "outputId": "b410c70d-04b5-48b1-cd72-d243849c4b51"
      },
      "outputs": [
        {
          "data": {
            "text/plain": [
              "(array([17018]),)"
            ]
          },
          "execution_count": 50,
          "metadata": {},
          "output_type": "execute_result"
        }
      ],
      "source": [
        "np.where(df['track_id'].cat.categories == \"TROINZB128F932F740\")"
      ]
    },
    {
      "cell_type": "code",
      "execution_count": 51,
      "metadata": {
        "id": "n9A6ceWCGS-h"
      },
      "outputs": [],
      "source": [
        "ind = 17018"
      ]
    },
    {
      "cell_type": "code",
      "execution_count": 52,
      "metadata": {
        "colab": {
          "base_uri": "https://localhost:8080/"
        },
        "id": "c25K5qlapQbd",
        "outputId": "f0237145-c359-46e0-82a5-cc18f1d9aef9"
      },
      "outputs": [
        {
          "data": {
            "text/plain": [
              "<Compressed Sparse Row sparse matrix of dtype 'float64'\n",
              "\twith 610 stored elements and shape (1, 962037)>"
            ]
          },
          "execution_count": 52,
          "metadata": {},
          "output_type": "execute_result"
        }
      ],
      "source": [
        "input_array = sparse_matrix[ind]\n",
        "\n",
        "input_array"
      ]
    },
    {
      "cell_type": "code",
      "execution_count": 53,
      "metadata": {
        "id": "JUPJufgwpYYQ"
      },
      "outputs": [],
      "source": [
        "similarity_scores = cosine_similarity(input_array, sparse_matrix)"
      ]
    },
    {
      "cell_type": "code",
      "execution_count": 54,
      "metadata": {
        "colab": {
          "base_uri": "https://localhost:8080/"
        },
        "id": "jtR_7Icyrwbp",
        "outputId": "317421fb-8949-4d49-a21a-ffa7873d999e"
      },
      "outputs": [
        {
          "data": {
            "text/plain": [
              "array([[0.        , 0.        , 0.        , ..., 0.07217127, 0.08225488,\n",
              "        1.        ]], shape=(1, 30459))"
            ]
          },
          "execution_count": 54,
          "metadata": {},
          "output_type": "execute_result"
        }
      ],
      "source": [
        "np.sort(similarity_scores)[-6:][::-1]"
      ]
    },
    {
      "cell_type": "code",
      "execution_count": 55,
      "metadata": {
        "colab": {
          "base_uri": "https://localhost:8080/"
        },
        "id": "KUk_9oK4peF-",
        "outputId": "6a059a7d-ba0a-4669-f041-fcd8e22d36cc"
      },
      "outputs": [
        {
          "data": {
            "text/plain": [
              "(1, 30459)"
            ]
          },
          "execution_count": 55,
          "metadata": {},
          "output_type": "execute_result"
        }
      ],
      "source": [
        "similarity_scores.shape"
      ]
    },
    {
      "cell_type": "code",
      "execution_count": 56,
      "metadata": {
        "colab": {
          "base_uri": "https://localhost:8080/"
        },
        "id": "XdVesmljpiQf",
        "outputId": "55706f9d-8b43-41b1-b15c-2731f14b5edb"
      },
      "outputs": [
        {
          "data": {
            "text/plain": [
              "array([17018, 24529, 28964,  3620,  9470,  7882])"
            ]
          },
          "execution_count": 56,
          "metadata": {},
          "output_type": "execute_result"
        }
      ],
      "source": [
        "np.argsort(similarity_scores.ravel())[-6:][::-1]"
      ]
    },
    {
      "cell_type": "code",
      "execution_count": 57,
      "metadata": {
        "id": "odScROlvqLn7"
      },
      "outputs": [],
      "source": [
        "recommendations = df['track_id'].cat.categories[np.argsort(similarity_scores.ravel())[-6:][::-1]]"
      ]
    },
    {
      "cell_type": "code",
      "execution_count": 58,
      "metadata": {
        "colab": {
          "base_uri": "https://localhost:8080/"
        },
        "id": "s1FT__lnr5Ku",
        "outputId": "f7615471-7d72-4034-d989-39f24f5f7244"
      },
      "outputs": [
        {
          "data": {
            "text/plain": [
              "Index(['TROINZB128F932F740', 'TRURCEI12903CA4395', 'TRYLWIW12903CA438D',\n",
              "       'TRCVMAF12903D00E61', 'TRHRNEE12903CFDBD4', 'TRGEUXY128F4226B26'],\n",
              "      dtype='string', name='track_id')"
            ]
          },
          "execution_count": 58,
          "metadata": {},
          "output_type": "execute_result"
        }
      ],
      "source": [
        "recommendations"
      ]
    },
    {
      "cell_type": "code",
      "execution_count": 59,
      "metadata": {
        "colab": {
          "base_uri": "https://localhost:8080/",
          "height": 81
        },
        "id": "HT_5_FmLtEgK",
        "outputId": "7389aa5e-795f-4bc1-f584-ea31f67f6303"
      },
      "outputs": [
        {
          "data": {
            "text/html": [
              "<div>\n",
              "<style scoped>\n",
              "    .dataframe tbody tr th:only-of-type {\n",
              "        vertical-align: middle;\n",
              "    }\n",
              "\n",
              "    .dataframe tbody tr th {\n",
              "        vertical-align: top;\n",
              "    }\n",
              "\n",
              "    .dataframe thead th {\n",
              "        text-align: right;\n",
              "    }\n",
              "</style>\n",
              "<table border=\"1\" class=\"dataframe\">\n",
              "  <thead>\n",
              "    <tr style=\"text-align: right;\">\n",
              "      <th></th>\n",
              "      <th>track_id</th>\n",
              "      <th>name</th>\n",
              "      <th>artist</th>\n",
              "      <th>spotify_preview_url</th>\n",
              "    </tr>\n",
              "  </thead>\n",
              "  <tbody>\n",
              "    <tr>\n",
              "      <th>3337</th>\n",
              "      <td>TROINZB128F932F740</td>\n",
              "      <td>Crazy in Love</td>\n",
              "      <td>Beyoncé</td>\n",
              "      <td>https://p.scdn.co/mp3-preview/807828ea7070bda7...</td>\n",
              "    </tr>\n",
              "  </tbody>\n",
              "</table>\n",
              "</div>"
            ],
            "text/plain": [
              "                track_id           name   artist  \\\n",
              "3337  TROINZB128F932F740  Crazy in Love  Beyoncé   \n",
              "\n",
              "                                    spotify_preview_url  \n",
              "3337  https://p.scdn.co/mp3-preview/807828ea7070bda7...  "
            ]
          },
          "execution_count": 59,
          "metadata": {},
          "output_type": "execute_result"
        }
      ],
      "source": [
        "filtered_songs[filtered_songs[\"name\"] == \"Crazy in Love\"]"
      ]
    },
    {
      "cell_type": "code",
      "execution_count": 60,
      "metadata": {
        "colab": {
          "base_uri": "https://localhost:8080/",
          "height": 238
        },
        "id": "-UTaxrSiqasP",
        "outputId": "f19f3805-0172-445b-bca8-efa206196bad"
      },
      "outputs": [
        {
          "data": {
            "text/html": [
              "<div>\n",
              "<style scoped>\n",
              "    .dataframe tbody tr th:only-of-type {\n",
              "        vertical-align: middle;\n",
              "    }\n",
              "\n",
              "    .dataframe tbody tr th {\n",
              "        vertical-align: top;\n",
              "    }\n",
              "\n",
              "    .dataframe thead th {\n",
              "        text-align: right;\n",
              "    }\n",
              "</style>\n",
              "<table border=\"1\" class=\"dataframe\">\n",
              "  <thead>\n",
              "    <tr style=\"text-align: right;\">\n",
              "      <th></th>\n",
              "      <th>track_id</th>\n",
              "      <th>name</th>\n",
              "      <th>artist</th>\n",
              "      <th>spotify_preview_url</th>\n",
              "    </tr>\n",
              "  </thead>\n",
              "  <tbody>\n",
              "    <tr>\n",
              "      <th>3337</th>\n",
              "      <td>TROINZB128F932F740</td>\n",
              "      <td>Crazy in Love</td>\n",
              "      <td>Beyoncé</td>\n",
              "      <td>https://p.scdn.co/mp3-preview/807828ea7070bda7...</td>\n",
              "    </tr>\n",
              "    <tr>\n",
              "      <th>8871</th>\n",
              "      <td>TRCVMAF12903D00E61</td>\n",
              "      <td>Delirium</td>\n",
              "      <td>Satyricon</td>\n",
              "      <td>https://p.scdn.co/mp3-preview/d039120c4f5f1e8d...</td>\n",
              "    </tr>\n",
              "    <tr>\n",
              "      <th>17287</th>\n",
              "      <td>TRGEUXY128F4226B26</td>\n",
              "      <td>Monday Massacre</td>\n",
              "      <td>Mr. Oizo</td>\n",
              "      <td>https://p.scdn.co/mp3-preview/4d6dbacc93e3ef7e...</td>\n",
              "    </tr>\n",
              "    <tr>\n",
              "      <th>26611</th>\n",
              "      <td>TRYLWIW12903CA438D</td>\n",
              "      <td>Dreadlock</td>\n",
              "      <td>Future Prophecies</td>\n",
              "      <td>https://p.scdn.co/mp3-preview/13ca5435549b0e46...</td>\n",
              "    </tr>\n",
              "    <tr>\n",
              "      <th>26701</th>\n",
              "      <td>TRURCEI12903CA4395</td>\n",
              "      <td>Bring the Noise</td>\n",
              "      <td>Future Prophecies</td>\n",
              "      <td>https://p.scdn.co/mp3-preview/d558b155fb9dcfe4...</td>\n",
              "    </tr>\n",
              "    <tr>\n",
              "      <th>27774</th>\n",
              "      <td>TRHRNEE12903CFDBD4</td>\n",
              "      <td>Lunar Sea</td>\n",
              "      <td>Camel</td>\n",
              "      <td>https://p.scdn.co/mp3-preview/8bf35f13a0ece173...</td>\n",
              "    </tr>\n",
              "  </tbody>\n",
              "</table>\n",
              "</div>"
            ],
            "text/plain": [
              "                 track_id             name             artist  \\\n",
              "3337   TROINZB128F932F740    Crazy in Love            Beyoncé   \n",
              "8871   TRCVMAF12903D00E61         Delirium          Satyricon   \n",
              "17287  TRGEUXY128F4226B26  Monday Massacre           Mr. Oizo   \n",
              "26611  TRYLWIW12903CA438D        Dreadlock  Future Prophecies   \n",
              "26701  TRURCEI12903CA4395  Bring the Noise  Future Prophecies   \n",
              "27774  TRHRNEE12903CFDBD4        Lunar Sea              Camel   \n",
              "\n",
              "                                     spotify_preview_url  \n",
              "3337   https://p.scdn.co/mp3-preview/807828ea7070bda7...  \n",
              "8871   https://p.scdn.co/mp3-preview/d039120c4f5f1e8d...  \n",
              "17287  https://p.scdn.co/mp3-preview/4d6dbacc93e3ef7e...  \n",
              "26611  https://p.scdn.co/mp3-preview/13ca5435549b0e46...  \n",
              "26701  https://p.scdn.co/mp3-preview/d558b155fb9dcfe4...  \n",
              "27774  https://p.scdn.co/mp3-preview/8bf35f13a0ece173...  "
            ]
          },
          "execution_count": 60,
          "metadata": {},
          "output_type": "execute_result"
        }
      ],
      "source": [
        "filtered_songs[filtered_songs[\"track_id\"].isin(recommendations)]"
      ]
    },
    {
      "cell_type": "code",
      "execution_count": 61,
      "metadata": {
        "id": "96gej_n5tOCg"
      },
      "outputs": [],
      "source": [
        "def collaborative_recommendation(song_name,user_data,songs_data,interaction_matrix,k=5):\n",
        "    # fetch the row from songs data\n",
        "    song_row = songs_data[songs_data[\"name\"] == song_name]\n",
        "    print(song_row)\n",
        "    # track_id of input song\n",
        "    input_track_id = song_row['track_id'].values.item()\n",
        "    print(input_track_id)\n",
        "    # index value of track_id\n",
        "    ind = np.where(user_data['track_id'].cat.categories == input_track_id)[0].item()\n",
        "    print(ind)\n",
        "    # fetch the input vector\n",
        "    input_array = interaction_matrix[ind]\n",
        "    # get similarity scores\n",
        "    similarity_scores = cosine_similarity(input_array, interaction_matrix)\n",
        "    # get top k recommendations\n",
        "    recommendation_track_ids = df['track_id'].cat.categories[np.argsort(similarity_scores.ravel())[-k-1:][::-1]]\n",
        "    print(recommendation_track_ids)\n",
        "    # get top scores\n",
        "    top_scores = np.sort(similarity_scores.ravel())[-k-1:][::-1]\n",
        "    print(top_scores)\n",
        "    # get the songs from data and print\n",
        "    temp_df = pd.DataFrame({\"track_id\":recommendation_track_ids.tolist(),\n",
        "                            \"score\":top_scores})\n",
        "    print(temp_df)\n",
        "    top_k_songs = (\n",
        "                    songs_data\n",
        "                    .loc[songs_data[\"track_id\"].isin(recommendation_track_ids)]\n",
        "                    .merge(temp_df,on=\"track_id\")\n",
        "                    .sort_values(by=\"score\",ascending=False)\n",
        "                    .drop(columns=[\"track_id\",\"score\"])\n",
        "                    .reset_index(drop=True)\n",
        "                    )\n",
        "    return top_k_songs"
      ]
    },
    {
      "cell_type": "code",
      "execution_count": 62,
      "metadata": {
        "colab": {
          "base_uri": "https://localhost:8080/",
          "height": 550
        },
        "id": "Kcx1VjsXtvkI",
        "outputId": "4e9e10d3-417e-403a-bf89-319fc334cffb"
      },
      "outputs": [
        {
          "name": "stdout",
          "output_type": "stream",
          "text": [
            "                track_id           name   artist  \\\n",
            "3337  TROINZB128F932F740  Crazy in Love  Beyoncé   \n",
            "\n",
            "                                    spotify_preview_url  \n",
            "3337  https://p.scdn.co/mp3-preview/807828ea7070bda7...  \n",
            "TROINZB128F932F740\n",
            "17018\n",
            "Index(['TROINZB128F932F740', 'TRURCEI12903CA4395', 'TRYLWIW12903CA438D',\n",
            "       'TRCVMAF12903D00E61', 'TRHRNEE12903CFDBD4', 'TRGEUXY128F4226B26'],\n",
            "      dtype='string', name='track_id')\n",
            "[1.         0.08225488 0.07217127 0.05592032 0.05529279 0.05404559]\n",
            "             track_id     score\n",
            "0  TROINZB128F932F740  1.000000\n",
            "1  TRURCEI12903CA4395  0.082255\n",
            "2  TRYLWIW12903CA438D  0.072171\n",
            "3  TRCVMAF12903D00E61  0.055920\n",
            "4  TRHRNEE12903CFDBD4  0.055293\n",
            "5  TRGEUXY128F4226B26  0.054046\n"
          ]
        },
        {
          "data": {
            "text/html": [
              "<div>\n",
              "<style scoped>\n",
              "    .dataframe tbody tr th:only-of-type {\n",
              "        vertical-align: middle;\n",
              "    }\n",
              "\n",
              "    .dataframe tbody tr th {\n",
              "        vertical-align: top;\n",
              "    }\n",
              "\n",
              "    .dataframe thead th {\n",
              "        text-align: right;\n",
              "    }\n",
              "</style>\n",
              "<table border=\"1\" class=\"dataframe\">\n",
              "  <thead>\n",
              "    <tr style=\"text-align: right;\">\n",
              "      <th></th>\n",
              "      <th>name</th>\n",
              "      <th>artist</th>\n",
              "      <th>spotify_preview_url</th>\n",
              "    </tr>\n",
              "  </thead>\n",
              "  <tbody>\n",
              "    <tr>\n",
              "      <th>0</th>\n",
              "      <td>Crazy in Love</td>\n",
              "      <td>Beyoncé</td>\n",
              "      <td>https://p.scdn.co/mp3-preview/807828ea7070bda7...</td>\n",
              "    </tr>\n",
              "    <tr>\n",
              "      <th>1</th>\n",
              "      <td>Bring the Noise</td>\n",
              "      <td>Future Prophecies</td>\n",
              "      <td>https://p.scdn.co/mp3-preview/d558b155fb9dcfe4...</td>\n",
              "    </tr>\n",
              "    <tr>\n",
              "      <th>2</th>\n",
              "      <td>Dreadlock</td>\n",
              "      <td>Future Prophecies</td>\n",
              "      <td>https://p.scdn.co/mp3-preview/13ca5435549b0e46...</td>\n",
              "    </tr>\n",
              "    <tr>\n",
              "      <th>3</th>\n",
              "      <td>Delirium</td>\n",
              "      <td>Satyricon</td>\n",
              "      <td>https://p.scdn.co/mp3-preview/d039120c4f5f1e8d...</td>\n",
              "    </tr>\n",
              "    <tr>\n",
              "      <th>4</th>\n",
              "      <td>Lunar Sea</td>\n",
              "      <td>Camel</td>\n",
              "      <td>https://p.scdn.co/mp3-preview/8bf35f13a0ece173...</td>\n",
              "    </tr>\n",
              "    <tr>\n",
              "      <th>5</th>\n",
              "      <td>Monday Massacre</td>\n",
              "      <td>Mr. Oizo</td>\n",
              "      <td>https://p.scdn.co/mp3-preview/4d6dbacc93e3ef7e...</td>\n",
              "    </tr>\n",
              "  </tbody>\n",
              "</table>\n",
              "</div>"
            ],
            "text/plain": [
              "              name             artist  \\\n",
              "0    Crazy in Love            Beyoncé   \n",
              "1  Bring the Noise  Future Prophecies   \n",
              "2        Dreadlock  Future Prophecies   \n",
              "3         Delirium          Satyricon   \n",
              "4        Lunar Sea              Camel   \n",
              "5  Monday Massacre           Mr. Oizo   \n",
              "\n",
              "                                 spotify_preview_url  \n",
              "0  https://p.scdn.co/mp3-preview/807828ea7070bda7...  \n",
              "1  https://p.scdn.co/mp3-preview/d558b155fb9dcfe4...  \n",
              "2  https://p.scdn.co/mp3-preview/13ca5435549b0e46...  \n",
              "3  https://p.scdn.co/mp3-preview/d039120c4f5f1e8d...  \n",
              "4  https://p.scdn.co/mp3-preview/8bf35f13a0ece173...  \n",
              "5  https://p.scdn.co/mp3-preview/4d6dbacc93e3ef7e...  "
            ]
          },
          "execution_count": 62,
          "metadata": {},
          "output_type": "execute_result"
        }
      ],
      "source": [
        "collaborative_recommendation(song_name=\"Crazy in Love\",\n",
        "                             user_data=df,\n",
        "                             songs_data=filtered_songs,\n",
        "                             interaction_matrix=sparse_matrix)"
      ]
    }
  ],
  "metadata": {
    "colab": {
      "provenance": []
    },
    "kernelspec": {
      "display_name": "myenv",
      "language": "python",
      "name": "python3"
    },
    "language_info": {
      "codemirror_mode": {
        "name": "ipython",
        "version": 3
      },
      "file_extension": ".py",
      "mimetype": "text/x-python",
      "name": "python",
      "nbconvert_exporter": "python",
      "pygments_lexer": "ipython3",
      "version": "3.11.4"
    }
  },
  "nbformat": 4,
  "nbformat_minor": 0
}
